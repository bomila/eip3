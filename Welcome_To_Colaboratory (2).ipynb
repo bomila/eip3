{
  "nbformat": 4,
  "nbformat_minor": 0,
  "metadata": {
    "colab": {
      "name": "Welcome To Colaboratory",
      "version": "0.3.2",
      "provenance": [],
      "collapsed_sections": []
    },
    "kernelspec": {
      "name": "python3",
      "display_name": "Python 3"
    },
    "accelerator": "GPU"
  },
  "cells": [
    {
      "cell_type": "markdown",
      "metadata": {
        "colab_type": "text",
        "id": "5fCEDCU_qrC0"
      },
      "source": [
        "<p><img alt=\"Colaboratory logo\" height=\"45px\" src=\"https://colab.research.google.com/img/colab_favicon.ico\" align=\"left\" hspace=\"10px\" vspace=\"0px\"></p>\n",
        "\n",
        "<h1>Welcome to Colaboratory!</h1>\n",
        "\n",
        "\n",
        "Colaboratory is a free Jupyter notebook environment that requires no setup and runs entirely in the cloud.\n",
        "\n",
        "With Colaboratory you can write and execute code, save and share your analyses, and access powerful computing resources, all for free from your browser."
      ]
    },
    {
      "cell_type": "code",
      "metadata": {
        "colab_type": "code",
        "id": "xitplqMNk_Hc",
        "outputId": "ed4f60d2-878d-4056-c438-352dac39a112",
        "colab": {
          "height": 420
        }
      },
      "source": [
        "#@title Introducing Colaboratory { display-mode: \"form\" }\n",
        "#@markdown This 3-minute video gives an overview of the key features of Colaboratory:\n",
        "from IPython.display import YouTubeVideo\n",
        "YouTubeVideo('inN8seMm7UI', width=600, height=400)"
      ],
      "execution_count": 0,
      "outputs": [
        {
          "output_type": "execute_result",
          "data": {
            "text/html": [
              "\n",
              "        <iframe\n",
              "            width=\"600\"\n",
              "            height=\"400\"\n",
              "            src=\"https://www.youtube.com/embed/inN8seMm7UI\"\n",
              "            frameborder=\"0\"\n",
              "            allowfullscreen\n",
              "        ></iframe>\n",
              "        "
            ],
            "text/plain": [
              "<IPython.lib.display.YouTubeVideo at 0x7f956e9dda50>"
            ]
          },
          "metadata": {
            "tags": []
          },
          "execution_count": 0
        }
      ]
    },
    {
      "cell_type": "markdown",
      "metadata": {
        "colab_type": "text",
        "id": "GJBs_flRovLc"
      },
      "source": [
        "## Getting Started\n",
        "\n",
        "The document you are reading is a  [Jupyter notebook](https://jupyter.org/), hosted in Colaboratory. It is not a static page, but an interactive environment that lets you write and execute code in Python and other languages.\n",
        "\n",
        "For example, here is a **code cell** with a short Python script that computes a value, stores it in a variable, and prints the result:"
      ]
    },
    {
      "cell_type": "code",
      "metadata": {
        "colab_type": "code",
        "id": "gJr_9dXGpJ05",
        "outputId": "5626194c-e802-4293-942d-2908885c3c1f",
        "colab": {
          "height": 35
        }
      },
      "source": [
        "seconds_in_a_day = 24 * 60 * 60\n",
        "seconds_in_a_day"
      ],
      "execution_count": 0,
      "outputs": [
        {
          "output_type": "execute_result",
          "data": {
            "text/plain": [
              "86400"
            ]
          },
          "metadata": {
            "tags": []
          },
          "execution_count": 0
        }
      ]
    },
    {
      "cell_type": "markdown",
      "metadata": {
        "colab_type": "text",
        "id": "2fhs6GZ4qFMx"
      },
      "source": [
        "To execute the code in the above cell, select it with a click and then either press the play button to the left of the code, or use the keyboard shortcut \"Command/Ctrl+Enter\".\n",
        "\n",
        "All cells modify the same global state, so variables that you define by executing a cell can be used in other cells:"
      ]
    },
    {
      "cell_type": "code",
      "metadata": {
        "colab_type": "code",
        "id": "-gE-Ez1qtyIA",
        "outputId": "8d2e4259-4682-4e19-b683-7b9087f28820",
        "colab": {
          "height": 35
        }
      },
      "source": [
        "seconds_in_a_week = 7 * seconds_in_a_day\n",
        "seconds_in_a_week"
      ],
      "execution_count": 0,
      "outputs": [
        {
          "output_type": "execute_result",
          "data": {
            "text/plain": [
              "604800"
            ]
          },
          "metadata": {
            "tags": []
          },
          "execution_count": 0
        }
      ]
    },
    {
      "cell_type": "markdown",
      "metadata": {
        "colab_type": "text",
        "id": "lSrWNr3MuFUS"
      },
      "source": [
        "For more information about working with Colaboratory notebooks, see [Overview of Colaboratory](/notebooks/basic_features_overview.ipynb).\n"
      ]
    },
    {
      "cell_type": "markdown",
      "metadata": {
        "colab_type": "text",
        "id": "-Rh3-Vt9Nev9"
      },
      "source": [
        "## More Resources\n",
        "\n",
        "Learn how to make the most of Python, Jupyter, Colaboratory, and related tools with these resources:\n",
        "\n",
        "### Working with Notebooks in Colaboratory\n",
        "- [Overview of Colaboratory](/notebooks/basic_features_overview.ipynb)\n",
        "- [Guide to Markdown](/notebooks/markdown_guide.ipynb)\n",
        "- [Importing libraries and installing dependencies](/notebooks/snippets/importing_libraries.ipynb)\n",
        "- [Saving and loading notebooks in GitHub](https://colab.research.google.com/github/googlecolab/colabtools/blob/master/notebooks/colab-github-demo.ipynb)\n",
        "- [Interactive forms](/notebooks/forms.ipynb)\n",
        "- [Interactive widgets](/notebooks/widgets.ipynb)\n",
        "\n",
        "### Working with Data\n",
        "- [Loading data: Drive, Sheets, and Google Cloud Storage](/notebooks/io.ipynb) \n",
        "- [Charts: visualizing data](/notebooks/charts.ipynb)\n",
        "- [Getting started with BigQuery](/notebooks/bigquery.ipynb)\n",
        "\n",
        "### Machine Learning Crash Course\n",
        "These are a few of the notebooks from Google's online Machine Learning course. See the [full course website](https://developers.google.com/machine-learning/crash-course/) for more.\n",
        "- [Intro to Pandas](/notebooks/mlcc/intro_to_pandas.ipynb)\n",
        "- [Tensorflow concepts](/notebooks/mlcc/tensorflow_programming_concepts.ipynb)\n",
        "- [First steps with TensorFlow](/notebooks/mlcc/first_steps_with_tensor_flow.ipynb)\n",
        "- [Intro to neural nets](/notebooks/mlcc/intro_to_neural_nets.ipynb)\n",
        "- [Intro to sparse data and embeddings](/notebooks/mlcc/intro_to_sparse_data_and_embeddings.ipynb)\n",
        "\n",
        "### Using Accelerated Hardware\n",
        "- [TensorFlow with GPUs](/notebooks/gpu.ipynb)\n",
        "- [TensorFlow with TPUs](/notebooks/tpu.ipynb)"
      ]
    },
    {
      "cell_type": "markdown",
      "metadata": {
        "colab_type": "text",
        "id": "P-H6Lw1vyNNd"
      },
      "source": [
        "## Machine Learning Examples: Seedbank\n",
        "\n",
        "To see end-to-end examples of the interactive machine learning analyses that Colaboratory makes possible, check out the [Seedbank](https://research.google.com/seedbank/) project.\n",
        "\n",
        "A few featured examples:\n",
        "\n",
        "- [Neural Style Transfer](https://research.google.com/seedbank/seed/neural_style_transfer_with_tfkeras): Use deep learning to transfer style between images.\n",
        "- [EZ NSynth](https://research.google.com/seedbank/seed/ez_nsynth): Synthesize audio with WaveNet auto-encoders.\n",
        "- [Fashion MNIST with Keras and TPUs](https://research.google.com/seedbank/seed/fashion_mnist_with_keras_and_tpus): Classify fashion-related images with deep learning.\n",
        "- [DeepDream](https://research.google.com/seedbank/seed/deepdream): Produce DeepDream images from your own photos.\n",
        "- [Convolutional VAE](https://research.google.com/seedbank/seed/convolutional_vae): Create a generative model of handwritten digits."
      ]
    },
    {
      "cell_type": "code",
      "metadata": {
        "id": "2rEzNshuPBAD",
        "colab_type": "code",
        "colab": {}
      },
      "source": [
        "from keras import backend as K\n",
        "import time\n",
        "import matplotlib.pyplot as plt\n",
        "import numpy as np\n",
        "% matplotlib inline\n",
        "np.random.seed(2017) \n",
        "from keras.models import Sequential\n",
        "from keras.layers.convolutional import Convolution2D, MaxPooling2D\n",
        "from keras.layers import Activation, Flatten, Dense, Dropout\n",
        "from keras.layers.normalization import BatchNormalization\n",
        "from keras.utils import np_utils"
      ],
      "execution_count": 0,
      "outputs": []
    },
    {
      "cell_type": "code",
      "metadata": {
        "id": "_0n2C_ZaPBSu",
        "colab_type": "code",
        "colab": {}
      },
      "source": [
        "from keras.datasets import cifar10\n",
        "(train_features, train_labels), (test_features, test_labels) = cifar10.load_data()\n",
        "num_train, img_channels, img_rows, img_cols =  train_features.shape\n",
        "num_test, _, _, _ =  test_features.shape\n",
        "num_classes = len(np.unique(train_labels))"
      ],
      "execution_count": 0,
      "outputs": []
    },
    {
      "cell_type": "code",
      "metadata": {
        "id": "AuPlqyELPBmZ",
        "colab_type": "code",
        "colab": {
          "base_uri": "https://localhost:8080/",
          "height": 213
        },
        "outputId": "622ef32b-e46d-4be7-e435-dd9c663ff156"
      },
      "source": [
        "class_names = ['airplane','automobile','bird','cat','deer',\n",
        "               'dog','frog','horse','ship','truck']\n",
        "fig = plt.figure(figsize=(8,3))\n",
        "for i in range(num_classes):\n",
        "    ax = fig.add_subplot(2, 5, 1 + i, xticks=[], yticks=[])\n",
        "    idx = np.where(train_labels[:]==i)[0]\n",
        "    features_idx = train_features[idx,::]\n",
        "    img_num = np.random.randint(features_idx.shape[0])\n",
        "    im = features_idx[img_num]\n",
        "    ax.set_title(class_names[i])\n",
        "    plt.imshow(im)\n",
        "plt.show()"
      ],
      "execution_count": 5,
      "outputs": [
        {
          "output_type": "display_data",
          "data": {
            "image/png": "[encoded data removed]",
            "text/plain": [
              "<Figure size 576x216 with 10 Axes>"
            ]
          },
          "metadata": {
            "tags": []
          }
        }
      ]
    },
    {
      "cell_type": "code",
      "metadata": {
        "id": "_0pUIYIZPCOU",
        "colab_type": "code",
        "colab": {}
      },
      "source": [
        "def plot_model_history(model_history):\n",
        "    fig, axs = plt.subplots(1,2,figsize=(15,5))\n",
        "    # summarize history for accuracy\n",
        "    axs[0].plot(range(1,len(model_history.history['acc'])+1),model_history.history['acc'])\n",
        "    axs[0].plot(range(1,len(model_history.history['val_acc'])+1),model_history.history['val_acc'])\n",
        "    axs[0].set_title('Model Accuracy')\n",
        "    axs[0].set_ylabel('Accuracy')\n",
        "    axs[0].set_xlabel('Epoch')\n",
        "    axs[0].set_xticks(np.arange(1,len(model_history.history['acc'])+1),len(model_history.history['acc'])/10)\n",
        "    axs[0].legend(['train', 'val'], loc='best')\n",
        "    # summarize history for loss\n",
        "    axs[1].plot(range(1,len(model_history.history['loss'])+1),model_history.history['loss'])\n",
        "    axs[1].plot(range(1,len(model_history.history['val_loss'])+1),model_history.history['val_loss'])\n",
        "    axs[1].set_title('Model Loss')\n",
        "    axs[1].set_ylabel('Loss')\n",
        "    axs[1].set_xlabel('Epoch')\n",
        "    axs[1].set_xticks(np.arange(1,len(model_history.history['loss'])+1),len(model_history.history['loss'])/10)\n",
        "    axs[1].legend(['train', 'val'], loc='best')\n",
        "    plt.show()"
      ],
      "execution_count": 0,
      "outputs": []
    },
    {
      "cell_type": "code",
      "metadata": {
        "id": "N5y6Ae-8QYem",
        "colab_type": "code",
        "colab": {}
      },
      "source": [
        "def accuracy(test_x, test_y, model):\n",
        "    result = model.predict(test_x)\n",
        "    predicted_class = np.argmax(result, axis=1)\n",
        "    true_class = np.argmax(test_y, axis=1)\n",
        "    num_correct = np.sum(predicted_class == true_class) \n",
        "    accuracy = float(num_correct)/result.shape[0]\n",
        "    return (accuracy * 100)"
      ],
      "execution_count": 0,
      "outputs": []
    },
    {
      "cell_type": "code",
      "metadata": {
        "id": "Zfe3Cf0SRDzp",
        "colab_type": "code",
        "colab": {}
      },
      "source": [
        "train_features = train_features.astype('float32')/255\n",
        "test_features = test_features.astype('float32')/255\n",
        "# convert class labels to binary class labels\n",
        "train_labels = np_utils.to_categorical(train_labels, num_classes)\n",
        "test_labels = np_utils.to_categorical(test_labels, num_classes)"
      ],
      "execution_count": 0,
      "outputs": []
    },
    {
      "cell_type": "markdown",
      "metadata": {
        "id": "jsetyhbaQiQp",
        "colab_type": "text"
      },
      "source": [
        "# Network Model\n"
      ]
    },
    {
      "cell_type": "code",
      "metadata": {
        "id": "mbrLcaq1RBB7",
        "colab_type": "code",
        "colab": {
          "base_uri": "https://localhost:8080/",
          "height": 228
        },
        "outputId": "36a4da9e-a2f6-4b85-9089-aeea6f0e8a06"
      },
      "source": [
        "# Define the model\n",
        "model = Sequential()\n",
        "model.add(Convolution2D(40, 3, 3, border_mode='same', input_shape=(32, 32, 3)))\n",
        "model.add(BatchNormalization())\n",
        "model.add(Activation('relu'))\n",
        "model.add(Dropout(0.1))\n",
        "model.add(Convolution2D(80, 3, 3))\n",
        "model.add(BatchNormalization())\n",
        "model.add(Activation('relu'))\n",
        "model.add(Dropout(0.1))\n",
        "model.add(MaxPooling2D(pool_size=(2, 2)))\n",
        "\n",
        "model.add(Convolution2D(60, (3, 1), border_mode='same'))\n",
        "model.add(Convolution2D(60, (1, 3), border_mode='same'))\n",
        "model.add(BatchNormalization())\n",
        "model.add(Activation('relu'))\n",
        "model.add(Dropout(0.15))\n",
        "model.add(Convolution2D(120, (3, 1)))\n",
        "model.add(Convolution2D(120, (1, 3)))\n",
        "model.add(BatchNormalization())\n",
        "model.add(Activation('relu'))\n",
        "model.add(Dropout(0.15))\n",
        "model.add(MaxPooling2D(pool_size=(2, 2)))\n",
        "\n",
        "model.add(Convolution2D(80, (3, 1), border_mode='same'))\n",
        "model.add(Convolution2D(80, (1, 3), border_mode='same'))\n",
        "model.add(BatchNormalization())\n",
        "model.add(Activation('relu'))\n",
        "model.add(Dropout(0.15))\n",
        "model.add(Convolution2D(160, 3, 3))\n",
        "model.add(BatchNormalization())\n",
        "model.add(Activation('relu'))\n",
        "model.add(Dropout(0.15))\n",
        "\n",
        "model.add(Convolution2D(10, (3, 1), activation='relu'))      \n",
        "model.add(Convolution2D(10, (1, 3), activation='relu'))  \n",
        "model.add(MaxPooling2D(pool_size=(2, 2)))\n",
        "model.add(Dropout(0.15))\n",
        "# add flatten layer\n",
        "model.add(Flatten())\n",
        "model.add(Dropout(0.15))\n",
        "\n",
        "# add softmax activation function \n",
        "model.add(Activation('softmax'))\n",
        "\n",
        "\n",
        "model.compile(optimizer='adam', loss='categorical_crossentropy', metrics=['accuracy'])"
      ],
      "execution_count": 18,
      "outputs": [
        {
          "output_type": "stream",
          "text": [
            "/usr/local/lib/python3.6/dist-packages/ipykernel_launcher.py:2: UserWarning: Update your `Conv2D` call to the Keras 2 API: `Conv2D(40, (3, 3), input_shape=(32, 32, 3..., padding=\"same\")`\n",
            "  \n",
            "/usr/local/lib/python3.6/dist-packages/ipykernel_launcher.py:6: UserWarning: Update your `Conv2D` call to the Keras 2 API: `Conv2D(80, (3, 3))`\n",
            "  \n",
            "/usr/local/lib/python3.6/dist-packages/ipykernel_launcher.py:12: UserWarning: Update your `Conv2D` call to the Keras 2 API: `Conv2D(60, (3, 1), padding=\"same\")`\n",
            "  if sys.path[0] == '':\n",
            "/usr/local/lib/python3.6/dist-packages/ipykernel_launcher.py:13: UserWarning: Update your `Conv2D` call to the Keras 2 API: `Conv2D(60, (1, 3), padding=\"same\")`\n",
            "  del sys.path[0]\n",
            "/usr/local/lib/python3.6/dist-packages/ipykernel_launcher.py:24: UserWarning: Update your `Conv2D` call to the Keras 2 API: `Conv2D(80, (3, 1), padding=\"same\")`\n",
            "/usr/local/lib/python3.6/dist-packages/ipykernel_launcher.py:25: UserWarning: Update your `Conv2D` call to the Keras 2 API: `Conv2D(80, (1, 3), padding=\"same\")`\n",
            "/usr/local/lib/python3.6/dist-packages/ipykernel_launcher.py:29: UserWarning: Update your `Conv2D` call to the Keras 2 API: `Conv2D(160, (3, 3))`\n"
          ],
          "name": "stderr"
        }
      ]
    },
    {
      "cell_type": "code",
      "metadata": {
        "id": "PiVxiKhgRrr8",
        "colab_type": "code",
        "colab": {
          "base_uri": "https://localhost:8080/",
          "height": 1000
        },
        "outputId": "ef9e1d74-e106-4d21-96be-8efdfdc160ae"
      },
      "source": [
        "from keras.preprocessing.image import ImageDataGenerator\n",
        "\n",
        "datagen = ImageDataGenerator(zoom_range=0.0, \n",
        "                             horizontal_flip=False)\n",
        "\n",
        "\n",
        "\n",
        "# train the model\n",
        "start = time.time()\n",
        "# Train the model\n",
        "model_info = model.fit_generator(datagen.flow(train_features, train_labels, batch_size = 128),\n",
        "                                 samples_per_epoch = train_features.shape[0], nb_epoch = 100, \n",
        "                                 validation_data = (test_features, test_labels), verbose=1)\n",
        "end = time.time()\n",
        "print (\"Model took %0.2f seconds to train\"%(end - start))\n",
        "# plot model history\n",
        "plot_model_history(model_info)\n",
        "# compute test accuracy\n",
        "print (\"Accuracy on test data is: %0.2f\"%accuracy(test_features, test_labels, model))"
      ],
      "execution_count": 0,
      "outputs": [
        {
          "output_type": "stream",
          "text": [
            "/usr/local/lib/python3.6/dist-packages/ipykernel_launcher.py:13: UserWarning: The semantics of the Keras 2 argument `steps_per_epoch` is not the same as the Keras 1 argument `samples_per_epoch`. `steps_per_epoch` is the number of batches to draw from the generator at each epoch. Basically steps_per_epoch = samples_per_epoch/batch_size. Similarly `nb_val_samples`->`validation_steps` and `val_samples`->`steps` arguments have changed. Update your method calls accordingly.\n",
            "  del sys.path[0]\n",
            "/usr/local/lib/python3.6/dist-packages/ipykernel_launcher.py:13: UserWarning: Update your `fit_generator` call to the Keras 2 API: `fit_generator(<keras_pre..., validation_data=(array([[[..., verbose=1, steps_per_epoch=390, epochs=100)`\n",
            "  del sys.path[0]\n"
          ],
          "name": "stderr"
        },
        {
          "output_type": "stream",
          "text": [
            "Epoch 1/100\n",
            "390/390 [==============================] - 19s 48ms/step - loss: 1.9320 - acc: 0.3377 - val_loss: 1.8697 - val_acc: 0.3666\n",
            "Epoch 2/100\n",
            "390/390 [==============================] - 16s 41ms/step - loss: 1.6132 - acc: 0.4655 - val_loss: 1.4023 - val_acc: 0.5679\n",
            "Epoch 3/100\n",
            "390/390 [==============================] - 16s 40ms/step - loss: 1.4655 - acc: 0.5148 - val_loss: 1.3264 - val_acc: 0.6004\n",
            "Epoch 4/100\n",
            "390/390 [==============================] - 16s 40ms/step - loss: 1.3674 - acc: 0.5490 - val_loss: 1.3251 - val_acc: 0.5794\n",
            "Epoch 5/100\n",
            "390/390 [==============================] - 16s 40ms/step - loss: 1.3062 - acc: 0.5667 - val_loss: 1.0407 - val_acc: 0.7065\n",
            "Epoch 6/100\n",
            "390/390 [==============================] - 16s 40ms/step - loss: 1.2668 - acc: 0.5798 - val_loss: 0.9510 - val_acc: 0.7389\n",
            "Epoch 7/100\n",
            "390/390 [==============================] - 16s 40ms/step - loss: 1.2245 - acc: 0.5910 - val_loss: 1.0539 - val_acc: 0.6938\n",
            "Epoch 8/100\n",
            "390/390 [==============================] - 16s 41ms/step - loss: 1.1958 - acc: 0.6003 - val_loss: 1.0464 - val_acc: 0.7031\n",
            "Epoch 9/100\n",
            "390/390 [==============================] - 16s 41ms/step - loss: 1.1693 - acc: 0.6086 - val_loss: 0.9063 - val_acc: 0.7551\n",
            "Epoch 10/100\n",
            "390/390 [==============================] - 16s 40ms/step - loss: 1.1522 - acc: 0.6147 - val_loss: 1.0476 - val_acc: 0.6909\n",
            "Epoch 11/100\n",
            "390/390 [==============================] - 16s 41ms/step - loss: 1.1274 - acc: 0.6233 - val_loss: 1.0341 - val_acc: 0.7037\n",
            "Epoch 12/100\n",
            "390/390 [==============================] - 16s 40ms/step - loss: 1.1100 - acc: 0.6264 - val_loss: 0.9788 - val_acc: 0.7271\n",
            "Epoch 13/100\n",
            "390/390 [==============================] - 16s 40ms/step - loss: 1.0892 - acc: 0.6333 - val_loss: 0.8270 - val_acc: 0.7730\n",
            "Epoch 14/100\n",
            "390/390 [==============================] - 16s 40ms/step - loss: 1.0781 - acc: 0.6376 - val_loss: 0.9282 - val_acc: 0.7281\n",
            "Epoch 15/100\n",
            "390/390 [==============================] - 16s 40ms/step - loss: 1.0574 - acc: 0.6437 - val_loss: 0.8710 - val_acc: 0.7657\n",
            "Epoch 16/100\n",
            "390/390 [==============================] - 16s 40ms/step - loss: 1.0530 - acc: 0.6428 - val_loss: 0.9969 - val_acc: 0.7138\n",
            "Epoch 17/100\n",
            "390/390 [==============================] - 16s 40ms/step - loss: 1.0536 - acc: 0.6426 - val_loss: 0.7969 - val_acc: 0.7754\n",
            "Epoch 18/100\n",
            "390/390 [==============================] - 16s 40ms/step - loss: 1.0267 - acc: 0.6522 - val_loss: 0.8350 - val_acc: 0.7645\n",
            "Epoch 19/100\n",
            "390/390 [==============================] - 16s 40ms/step - loss: 1.0207 - acc: 0.6530 - val_loss: 0.7473 - val_acc: 0.8025\n",
            "Epoch 20/100\n",
            "390/390 [==============================] - 16s 40ms/step - loss: 1.0154 - acc: 0.6548 - val_loss: 0.7638 - val_acc: 0.7931\n",
            "Epoch 21/100\n",
            "390/390 [==============================] - 16s 40ms/step - loss: 1.0054 - acc: 0.6577 - val_loss: 0.7906 - val_acc: 0.7762\n",
            "Epoch 22/100\n",
            "390/390 [==============================] - 16s 41ms/step - loss: 0.9962 - acc: 0.6592 - val_loss: 0.7766 - val_acc: 0.7903\n",
            "Epoch 23/100\n",
            "390/390 [==============================] - 16s 41ms/step - loss: 0.9797 - acc: 0.6652 - val_loss: 0.7979 - val_acc: 0.7735\n",
            "Epoch 24/100\n",
            "390/390 [==============================] - 16s 41ms/step - loss: 0.9860 - acc: 0.6602 - val_loss: 0.6921 - val_acc: 0.8140\n",
            "Epoch 25/100\n",
            "390/390 [==============================] - 16s 40ms/step - loss: 0.9648 - acc: 0.6676 - val_loss: 0.7119 - val_acc: 0.7985\n",
            "Epoch 26/100\n",
            "390/390 [==============================] - 16s 40ms/step - loss: 0.9600 - acc: 0.6700 - val_loss: 0.8105 - val_acc: 0.7657\n",
            "Epoch 27/100\n",
            "390/390 [==============================] - 16s 40ms/step - loss: 0.9534 - acc: 0.6725 - val_loss: 0.7855 - val_acc: 0.7839\n",
            "Epoch 28/100\n",
            "390/390 [==============================] - 16s 40ms/step - loss: 0.9525 - acc: 0.6710 - val_loss: 0.8685 - val_acc: 0.7541\n",
            "Epoch 29/100\n",
            "390/390 [==============================] - 16s 40ms/step - loss: 0.9407 - acc: 0.6752 - val_loss: 0.8204 - val_acc: 0.7704\n",
            "Epoch 30/100\n",
            "390/390 [==============================] - 16s 40ms/step - loss: 0.9340 - acc: 0.6764 - val_loss: 0.6619 - val_acc: 0.8138\n",
            "Epoch 31/100\n",
            "390/390 [==============================] - 16s 40ms/step - loss: 0.9372 - acc: 0.6767 - val_loss: 0.6344 - val_acc: 0.8260\n",
            "Epoch 32/100\n",
            "390/390 [==============================] - 16s 40ms/step - loss: 0.9346 - acc: 0.6756 - val_loss: 0.6532 - val_acc: 0.8228\n",
            "Epoch 33/100\n",
            "390/390 [==============================] - 16s 40ms/step - loss: 0.9198 - acc: 0.6806 - val_loss: 0.6263 - val_acc: 0.8338\n",
            "Epoch 34/100\n",
            "390/390 [==============================] - 16s 40ms/step - loss: 0.9227 - acc: 0.6784 - val_loss: 0.6588 - val_acc: 0.8192\n",
            "Epoch 35/100\n",
            "390/390 [==============================] - 16s 40ms/step - loss: 0.9152 - acc: 0.6807 - val_loss: 0.7248 - val_acc: 0.7978\n",
            "Epoch 36/100\n",
            "390/390 [==============================] - 16s 40ms/step - loss: 0.8995 - acc: 0.6873 - val_loss: 0.7020 - val_acc: 0.8080\n",
            "Epoch 37/100\n",
            "390/390 [==============================] - 16s 40ms/step - loss: 0.9014 - acc: 0.6870 - val_loss: 0.6149 - val_acc: 0.8351\n",
            "Epoch 38/100\n",
            "390/390 [==============================] - 16s 40ms/step - loss: 0.8996 - acc: 0.6877 - val_loss: 0.6083 - val_acc: 0.8340\n",
            "Epoch 39/100\n",
            "390/390 [==============================] - 16s 40ms/step - loss: 0.8936 - acc: 0.6896 - val_loss: 0.6099 - val_acc: 0.8354\n",
            "Epoch 40/100\n",
            "390/390 [==============================] - 16s 40ms/step - loss: 0.8941 - acc: 0.6870 - val_loss: 0.6758 - val_acc: 0.8128\n",
            "Epoch 41/100\n",
            "390/390 [==============================] - 16s 40ms/step - loss: 0.8903 - acc: 0.6888 - val_loss: 0.6234 - val_acc: 0.8330\n",
            "Epoch 42/100\n",
            "390/390 [==============================] - 16s 40ms/step - loss: 0.8824 - acc: 0.6916 - val_loss: 0.6465 - val_acc: 0.8259\n",
            "Epoch 43/100\n",
            "390/390 [==============================] - 16s 40ms/step - loss: 0.8801 - acc: 0.6919 - val_loss: 0.5881 - val_acc: 0.8415\n",
            "Epoch 44/100\n",
            "390/390 [==============================] - 16s 40ms/step - loss: 0.8810 - acc: 0.6914 - val_loss: 0.6174 - val_acc: 0.8306\n",
            "Epoch 45/100\n",
            "390/390 [==============================] - 16s 40ms/step - loss: 0.8704 - acc: 0.6946 - val_loss: 0.5939 - val_acc: 0.8388\n",
            "Epoch 46/100\n",
            "390/390 [==============================] - 16s 41ms/step - loss: 0.8620 - acc: 0.6970 - val_loss: 0.5748 - val_acc: 0.8409\n",
            "Epoch 47/100\n",
            "390/390 [==============================] - 16s 40ms/step - loss: 0.8654 - acc: 0.6968 - val_loss: 0.6051 - val_acc: 0.8309\n",
            "Epoch 48/100\n",
            "390/390 [==============================] - 16s 40ms/step - loss: 0.8684 - acc: 0.6946 - val_loss: 0.6339 - val_acc: 0.8249\n",
            "Epoch 49/100\n",
            "390/390 [==============================] - 16s 41ms/step - loss: 0.8607 - acc: 0.6956 - val_loss: 0.6384 - val_acc: 0.8255\n",
            "Epoch 50/100\n",
            "390/390 [==============================] - 16s 40ms/step - loss: 0.8615 - acc: 0.6976 - val_loss: 0.5935 - val_acc: 0.8376\n",
            "Epoch 51/100\n",
            "390/390 [==============================] - 16s 40ms/step - loss: 0.8572 - acc: 0.6977 - val_loss: 0.6773 - val_acc: 0.8153\n",
            "Epoch 52/100\n",
            "390/390 [==============================] - 16s 40ms/step - loss: 0.8548 - acc: 0.6989 - val_loss: 0.6025 - val_acc: 0.8399\n",
            "Epoch 53/100\n",
            "390/390 [==============================] - 16s 40ms/step - loss: 0.8395 - acc: 0.7052 - val_loss: 0.6011 - val_acc: 0.8341\n",
            "Epoch 54/100\n",
            "390/390 [==============================] - 16s 41ms/step - loss: 0.8518 - acc: 0.6985 - val_loss: 0.5880 - val_acc: 0.8427\n",
            "Epoch 55/100\n",
            "390/390 [==============================] - 16s 41ms/step - loss: 0.8582 - acc: 0.6968 - val_loss: 0.5985 - val_acc: 0.8360\n",
            "Epoch 56/100\n",
            "390/390 [==============================] - 16s 41ms/step - loss: 0.8443 - acc: 0.7009 - val_loss: 0.5598 - val_acc: 0.8495\n",
            "Epoch 57/100\n",
            "390/390 [==============================] - 16s 41ms/step - loss: 0.8416 - acc: 0.7018 - val_loss: 0.6112 - val_acc: 0.8341\n",
            "Epoch 58/100\n",
            "390/390 [==============================] - 16s 41ms/step - loss: 0.8326 - acc: 0.7057 - val_loss: 0.6205 - val_acc: 0.8311\n",
            "Epoch 59/100\n",
            "390/390 [==============================] - 16s 41ms/step - loss: 0.8361 - acc: 0.7018 - val_loss: 0.8022 - val_acc: 0.7706\n",
            "Epoch 60/100\n",
            "390/390 [==============================] - 16s 41ms/step - loss: 0.8300 - acc: 0.7066 - val_loss: 0.5429 - val_acc: 0.8519\n",
            "Epoch 61/100\n",
            "390/390 [==============================] - 16s 41ms/step - loss: 0.8306 - acc: 0.7056 - val_loss: 0.6583 - val_acc: 0.8160\n",
            "Epoch 62/100\n",
            "390/390 [==============================] - 16s 41ms/step - loss: 0.8226 - acc: 0.7079 - val_loss: 0.5428 - val_acc: 0.8545\n",
            "Epoch 63/100\n",
            "390/390 [==============================] - 16s 40ms/step - loss: 0.8266 - acc: 0.7055 - val_loss: 0.6701 - val_acc: 0.8134\n",
            "Epoch 64/100\n",
            "390/390 [==============================] - 16s 41ms/step - loss: 0.8261 - acc: 0.7064 - val_loss: 0.6098 - val_acc: 0.8339\n",
            "Epoch 65/100\n",
            "390/390 [==============================] - 16s 41ms/step - loss: 0.8229 - acc: 0.7070 - val_loss: 0.5488 - val_acc: 0.8531\n",
            "Epoch 66/100\n",
            "390/390 [==============================] - 16s 41ms/step - loss: 0.8302 - acc: 0.7061 - val_loss: 0.5819 - val_acc: 0.8401\n",
            "Epoch 67/100\n",
            "390/390 [==============================] - 16s 40ms/step - loss: 0.8194 - acc: 0.7084 - val_loss: 0.6099 - val_acc: 0.8326\n",
            "Epoch 68/100\n",
            "390/390 [==============================] - 16s 40ms/step - loss: 0.8238 - acc: 0.7070 - val_loss: 0.6614 - val_acc: 0.8168\n",
            "Epoch 69/100\n",
            "390/390 [==============================] - 16s 41ms/step - loss: 0.8155 - acc: 0.7110 - val_loss: 0.5850 - val_acc: 0.8410\n",
            "Epoch 70/100\n",
            "390/390 [==============================] - 16s 40ms/step - loss: 0.8147 - acc: 0.7122 - val_loss: 0.5661 - val_acc: 0.8489\n",
            "Epoch 71/100\n",
            "390/390 [==============================] - 16s 41ms/step - loss: 0.8126 - acc: 0.7103 - val_loss: 0.5830 - val_acc: 0.8460\n",
            "Epoch 72/100\n",
            "390/390 [==============================] - 16s 40ms/step - loss: 0.8074 - acc: 0.7124 - val_loss: 0.6101 - val_acc: 0.8343\n",
            "Epoch 73/100\n",
            "390/390 [==============================] - 16s 40ms/step - loss: 0.8206 - acc: 0.7067 - val_loss: 0.5626 - val_acc: 0.8536\n",
            "Epoch 74/100\n",
            "390/390 [==============================] - 16s 41ms/step - loss: 0.8074 - acc: 0.7123 - val_loss: 0.5534 - val_acc: 0.8539\n",
            "Epoch 75/100\n",
            "390/390 [==============================] - 16s 40ms/step - loss: 0.8096 - acc: 0.7115 - val_loss: 0.6186 - val_acc: 0.8375\n",
            "Epoch 76/100\n",
            "390/390 [==============================] - 16s 40ms/step - loss: 0.8114 - acc: 0.7101 - val_loss: 0.5754 - val_acc: 0.8477\n",
            "Epoch 77/100\n",
            "390/390 [==============================] - 16s 40ms/step - loss: 0.7919 - acc: 0.7175 - val_loss: 0.5874 - val_acc: 0.8401\n",
            "Epoch 78/100\n",
            "390/390 [==============================] - 16s 40ms/step - loss: 0.8057 - acc: 0.7121 - val_loss: 0.6038 - val_acc: 0.8360\n",
            "Epoch 79/100\n",
            "390/390 [==============================] - 16s 41ms/step - loss: 0.8094 - acc: 0.7088 - val_loss: 0.6049 - val_acc: 0.8335\n",
            "Epoch 80/100\n",
            "390/390 [==============================] - 16s 41ms/step - loss: 0.8004 - acc: 0.7127 - val_loss: 0.5634 - val_acc: 0.8477\n",
            "Epoch 81/100\n",
            "390/390 [==============================] - 16s 40ms/step - loss: 0.7977 - acc: 0.7133 - val_loss: 0.5352 - val_acc: 0.8542\n",
            "Epoch 82/100\n",
            "390/390 [==============================] - 16s 40ms/step - loss: 0.7870 - acc: 0.7187 - val_loss: 0.5411 - val_acc: 0.8533\n",
            "Epoch 83/100\n",
            "390/390 [==============================] - 16s 40ms/step - loss: 0.7993 - acc: 0.7150 - val_loss: 0.5890 - val_acc: 0.8418\n",
            "Epoch 84/100\n",
            "390/390 [==============================] - 16s 41ms/step - loss: 0.7973 - acc: 0.7135 - val_loss: 0.5802 - val_acc: 0.8448\n",
            "Epoch 85/100\n",
            "390/390 [==============================] - 16s 40ms/step - loss: 0.7916 - acc: 0.7152 - val_loss: 0.5740 - val_acc: 0.8444\n",
            "Epoch 86/100\n",
            "390/390 [==============================] - 16s 40ms/step - loss: 0.7903 - acc: 0.7156 - val_loss: 0.5333 - val_acc: 0.8607\n",
            "Epoch 87/100\n",
            "390/390 [==============================] - 16s 40ms/step - loss: 0.7842 - acc: 0.7188 - val_loss: 0.5387 - val_acc: 0.8542\n",
            "Epoch 88/100\n",
            "390/390 [==============================] - 16s 40ms/step - loss: 0.7847 - acc: 0.7191 - val_loss: 0.6245 - val_acc: 0.8262\n",
            "Epoch 89/100\n",
            " 97/390 [======>.......................] - ETA: 11s - loss: 0.7873 - acc: 0.7173"
          ],
          "name": "stdout"
        }
      ]
    },
    {
      "cell_type": "code",
      "metadata": {
        "id": "LvS9ixfsXcak",
        "colab_type": "code",
        "colab": {}
      },
      "source": [
        "# Define the model\n",
        "model = Sequential()\n",
        "model.add(Convolution2D(32, 3, 3, border_mode='same', input_shape=(32, 32, 3)))\n",
        "model.add(BatchNormalization())\n",
        "model.add(Activation('relu'))\n",
        "model.add(Convolution2D(64, 3, 3))\n",
        "model.add(BatchNormalization())\n",
        "model.add(Activation('relu'))\n",
        "model.add(MaxPooling2D(pool_size=(2, 2)))\n",
        "model.add(Dropout(0.15))\n",
        "model.add(Convolution2D(70, (3, 1), border_mode='same'))\n",
        "model.add(Convolution2D(70, (1, 3), border_mode='same'))\n",
        "model.add(BatchNormalization())\n",
        "model.add(Activation('relu'))\n",
        "model.add(Dropout(0.15))\n",
        "model.add(Convolution2D(150, (3, 1)))\n",
        "model.add(Convolution2D(150, (1, 3)))\n",
        "model.add(BatchNormalization())\n",
        "model.add(Activation('relu'))\n",
        "model.add(MaxPooling2D(pool_size=(2, 2)))\n",
        "model.add(Dropout(0.15))\n",
        "model.add(Convolution2D(140, (3, 1), border_mode='same'))\n",
        "model.add(Convolution2D(140, (1, 3), border_mode='same'))\n",
        "model.add(BatchNormalization())\n",
        "model.add(Activation('relu'))\n",
        "model.add(Convolution2D(260, 3, 3))\n",
        "model.add(BatchNormalization())\n",
        "model.add(Activation('relu'))\n",
        "model.add(Convolution2D(10, (3, 1), activation='relu'))      \n",
        "model.add(Convolution2D(10, (1, 3), activation='relu'))  \n",
        "model.add(MaxPooling2D(pool_size=(2, 2)))\n",
        "model.add(Dropout(0.25))\n",
        "# add flatten layer\n",
        "model.add(Flatten())\n",
        "\n",
        "# add softmax activation function \n",
        "model.add(Activation('softmax'))\n",
        "\n",
        "\n",
        "model.compile(optimizer='adam', loss='categorical_crossentropy', metrics=['accuracy'])"
      ],
      "execution_count": 0,
      "outputs": []
    },
    {
      "cell_type": "markdown",
      "metadata": {
        "id": "EEyJaJdd2U-l",
        "colab_type": "text"
      },
      "source": [
        "## *Assignment* 6B:"
      ]
    },
    {
      "cell_type": "code",
      "metadata": {
        "id": "OySF18gE3F12",
        "colab_type": "code",
        "colab": {}
      },
      "source": [
        "Input_shape=Input(shape=(32,32,3))\n",
        "\n",
        "#Depthwise Seperable Convolution : Depthwise convolution followed bypoint-wise\n",
        "layer1=SeparableConv2D(32,5,name='SepConv_01')(Input_shape)\n",
        "layer1=BatchNormalization(name='BN_01')(layer1)\n",
        "layer1=Activation('relu',name='relu_01')(layer1)\n",
        "\n",
        "skip_connect_l1=layer1   #Input to layer4,6,7,8, MP1, MP2\n",
        "\n",
        "#Normal Convolution\n",
        "layer2=Conv2D(32,5,5,name='Conv_02')(layer1)\n",
        "layer2=BatchNormalization(name='BN_02')(layer2)\n",
        "layer2=Activation('relu',name='relu_02')(layer2)\n",
        "\n",
        "skip_connect_l2=layer2  #input to layer 10,11\n",
        "\n",
        "#Normal Convolution \n"
      ],
      "execution_count": 0,
      "outputs": []
    }
  ]
}