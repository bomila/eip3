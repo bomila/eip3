{
  "nbformat": 4,
  "nbformat_minor": 0,
  "metadata": {
    "colab": {
      "name": "Assignment 12.ipynb",
      "version": "0.3.2",
      "provenance": [],
      "collapsed_sections": []
    },
    "kernelspec": {
      "name": "python3",
      "display_name": "Python 3"
    },
    "accelerator": "GPU"
  },
  "cells": [
    {
      "cell_type": "code",
      "metadata": {
        "id": "mB5-2H1ZuinM",
        "colab_type": "code",
        "colab": {}
      },
      "source": [
        "from keras import backend as K\n",
        "import time\n",
        "import matplotlib.pyplot as plt\n",
        "import numpy as np\n",
        "% matplotlib inline\n",
        "np.random.seed(2017) \n",
        "import keras.models\n",
        "from keras import regularizers\n",
        "from keras.models import Sequential\n",
        "from keras.layers.convolutional import Convolution2D, MaxPooling2D,AveragePooling2D\n",
        "from keras.layers import Activation, Flatten, Dense, Dropout,Conv2D\n",
        "from keras.layers.normalization import BatchNormalization\n",
        "from keras.utils import np_utils\n",
        "from keras.preprocessing.image import ImageDataGenerator\n",
        "\n",
        "\n",
        "from numpy.random import seed\n",
        "seed(1)\n",
        "from tensorflow import set_random_seed"
      ],
      "execution_count": 0,
      "outputs": []
    },
    {
      "cell_type": "code",
      "metadata": {
        "id": "cpdhiwEAurrZ",
        "colab_type": "code",
        "colab": {}
      },
      "source": [
        "BATCH_SIZE = 512 #@param [\"512\", \"256\", \"128\"] {type:\"raw\"}\n",
        "MOMENTUM = 0.9 #@param [\"0.9\", \"0.95\", \"0.975\"] {type:\"raw\"}\n",
        "WEIGHT_DECAY = 0.000125 #@param [\"0.000125\", \"0.00025\", \"0.0005\"] {type:\"raw\"}\n",
        "LEARNING_RATE = 0.4 #@param [\"0.4\", \"0.2\", \"0.1\"] {type:\"raw\"}\n",
        "EPOCHS = 24 #@param {type:\"slider\", min:0, max:100, step:1}\n",
        "WARMUP = 5 #@param {type:\"slider\", min:0, max:24, step:1}"
      ],
      "execution_count": 0,
      "outputs": []
    },
    {
      "cell_type": "code",
      "metadata": {
        "id": "B7wl88b1wMT6",
        "colab_type": "code",
        "colab": {}
      },
      "source": [
        "from keras.datasets import cifar10\n",
        "(X_train, y_train), (X_test, y_test) = tf.keras.datasets.cifar10.load_data()\n",
        "n_train, n_test = X_train.shape[0], X_test.shape[0]\n",
        "img_size = X_train.shape[1]\n",
        "n_classes = y_train.max() + 1"
      ],
      "execution_count": 0,
      "outputs": []
    },
    {
      "cell_type": "code",
      "metadata": {
        "id": "zpePtixnwYRI",
        "colab_type": "code",
        "colab": {}
      },
      "source": [
        "X_train_mean = np.mean(X_train, axis=(0,1,2))\n",
        "X_train_std = np.std(X_train, axis=(0,1,2))\n",
        "X_train = (X_train - X_train_mean) / X_train_std\n",
        "X_test = (X_test - X_train_mean) / X_train_std"
      ],
      "execution_count": 0,
      "outputs": []
    },
    {
      "cell_type": "markdown",
      "metadata": {
        "id": "MVJCDqEnU-SY",
        "colab_type": "text"
      },
      "source": [
        "### Cutout"
      ]
    },
    {
      "cell_type": "code",
      "metadata": {
        "id": "fCE10_xjMgqr",
        "colab_type": "code",
        "colab": {}
      },
      "source": [
        "def random_crop(x, random_crop_size = (32,32), sync_seed=None):\n",
        "    np.random.seed(sync_seed)\n",
        "    w, h = x.shape[1], x.shape[2]\n",
        "    rangew = (w - random_crop_size[0]) // 2\n",
        "    rangeh = (h - random_crop_size[1]) // 2\n",
        "    offsetw = 0 if rangew == 0 else np.random.randint(rangew)\n",
        "    offseth = 0 if rangeh == 0 else np.random.randint(rangeh)\n",
        "    return x[:, offsetw:offsetw+random_crop_size[0], offseth:offseth+random_crop_size[1]]"
      ],
      "execution_count": 0,
      "outputs": []
    },
    {
      "cell_type": "code",
      "metadata": {
        "id": "sgIL8CgMVbKJ",
        "colab_type": "code",
        "colab": {}
      },
      "source": [
        "\n",
        "def get_random_eraser(p=0.5, s_l=0.02, s_h=0.4, r_1=0.3, r_2=1/0.3, v_l=0, v_h=255, pixel_level=False):\n",
        "    def eraser(input_img):\n",
        "        img_h, img_w, img_c = input_img.shape\n",
        "        p_1 = np.random.rand()\n",
        "\n",
        "        if p_1 > p:\n",
        "            return input_img\n",
        "\n",
        "        while True:\n",
        "            s = np.random.uniform(s_l, s_h) * img_h * img_w\n",
        "            r = np.random.uniform(r_1, r_2)\n",
        "            w = int(np.sqrt(s / r))\n",
        "            h = int(np.sqrt(s * r))\n",
        "            left = np.random.randint(0, img_w)\n",
        "            top = np.random.randint(0, img_h)\n",
        "\n",
        "            if left + w <= img_w and top + h <= img_h:\n",
        "                break\n",
        "\n",
        "        if pixel_level:\n",
        "            c = np.random.uniform(v_l, v_h, (h, w, img_c))\n",
        "        else:\n",
        "            c = np.random.uniform(v_l, v_h)\n",
        "\n",
        "        input_img[top:top + h, left:left + w, :] = c\n",
        "\n",
        "        return input_img\n",
        "\n",
        "    return eraser\n"
      ],
      "execution_count": 0,
      "outputs": []
    },
    {
      "cell_type": "code",
      "metadata": {
        "id": "EFwav77MRIn7",
        "colab_type": "code",
        "colab": {}
      },
      "source": [
        "\n",
        "\n",
        "#from  keras.preprocessing.imagekeras.p  import ImageDataGenerator\n",
        "\n",
        "datagen = keras.preprocessing.image.ImageDataGenerator(zoom_range=0.0, \n",
        "                             horizontal_flip=True, vertical_flip=True,\n",
        "                             preprocessing_function=get_random_eraser(v_l=8, v_h=8, pixel_level=True))"
      ],
      "execution_count": 0,
      "outputs": []
    },
    {
      "cell_type": "code",
      "metadata": {
        "id": "nZks1DZnVcCJ",
        "colab_type": "code",
        "colab": {}
      },
      "source": [
        "fdef build_nn(c=64, weight=0.125):\n",
        "  model = fw.Sequential()\n",
        "  model.add(fw.layers.ConvBN(c, **fw.layers.PYTORCH_PARAMS))\n",
        "  model.add(fw.layers.ConvResBlk(c*2, res_convs=2,\n",
        "    **fw.layers.PYTORCH_PARAMS))\n",
        "  model.add(fw.layers.ConvBlk(c*4, **fw.layers.PYTORCH_PARAMS))\n",
        "  model.add(fw.layers.ConvResBlk(c*8, res_convs=2,\n",
        "    **fw.layers.PYTORCH_PARAMS))\n",
        "  model.add(tf.keras.layers.GlobalMaxPool2D())\n",
        "  model.add(fw.layers.Classifier(n_classes, \n",
        "    kernel_initializer=fw.layers.init_pytorch, weight=weight))\n",
        "  return model"
      ],
      "execution_count": 0,
      "outputs": []
    },
    {
      "cell_type": "markdown",
      "metadata": {
        "id": "IJqSl8hKWwPQ",
        "colab_type": "text"
      },
      "source": [
        "### Model"
      ]
    },
    {
      "cell_type": "code",
      "metadata": {
        "id": "ORo_a5q6Wwtp",
        "colab_type": "code",
        "colab": {}
      },
      "source": [
        "# Define the model\n",
        "def model1():\n",
        "  \n",
        "  model = Sequential()\n",
        "  model.add(Conv2D(32, (3, 3), border_mode='same',kernel_regularizer=regularizers.l2(0.0001),name='conv2D_1', input_shape=(32, 32, 3)))\n",
        "  model.add(Activation('relu'))\n",
        "  model.add(BatchNormalization())\n",
        "\n",
        "  model.add(Conv2D(64, (3, 3),kernel_regularizer=regularizers.l2(0.0001),name='conv2D_2',border_mode='same'))\n",
        "  model.add(Activation('relu'))\n",
        "  model.add(BatchNormalization())\n",
        "\n",
        "  model.add(MaxPooling2D(pool_size=(2, 2)))\n",
        "  model.add(Dropout(0.2))\n",
        "\n",
        "  model.add(Conv2D(32, (1, 1),name='conv2D_3'))\n",
        "\n",
        "\n",
        "  model.add(Conv2D(64, (3, 3),kernel_regularizer=regularizers.l2(0.0001),name='conv2D_4',border_mode='same'))\n",
        "  model.add(Activation('relu'))\n",
        "  model.add(BatchNormalization())\n",
        "  \n",
        "  model.add(Conv2D(128, (3, 3),kernel_regularizer=regularizers.l2(0.0001),name='conv2D_5',border_mode='same'))\n",
        "  model.add(Activation('relu'))\n",
        "  model.add(BatchNormalization())\n",
        "\n",
        "  model.add(MaxPooling2D(pool_size=(2, 2)))\n",
        "  model.add(Dropout(0.3))\n",
        "\n",
        "  model.add(Conv2D(32, (1, 1),name='conv2D_6'))\n",
        "  \n",
        "  model.add(Conv2D(128, (3, 3),kernel_regularizer=regularizers.l2(0.0001),name='conv2D_7', border_mode=\"same\"))\n",
        "  model.add(Activation('relu'))\n",
        "  model.add(BatchNormalization())\n",
        "\n",
        "  model.add(Conv2D(256, (3, 3),kernel_regularizer=regularizers.l2(0.0001),name='conv2D_8', border_mode=\"same\"))\n",
        "  model.add(Activation('relu'))\n",
        "  model.add(BatchNormalization())\n",
        "\n",
        "  model.add(MaxPooling2D(pool_size=(2, 2)))\n",
        "  model.add(Dropout(0.5))\n",
        "\n",
        "  model.add(Conv2D(10, (1, 1),name='conv2D_9'))\n",
        "\n",
        "  model.add(AveragePooling2D(pool_size = (4,4)))\n",
        "  model.add(Flatten())\n",
        "\n",
        "\n",
        "  model.add(Activation('softmax'))\n",
        "  return model"
      ],
      "execution_count": 0,
      "outputs": []
    },
    {
      "cell_type": "code",
      "metadata": {
        "id": "PvbXeU_TWw3-",
        "colab_type": "code",
        "colab": {}
      },
      "source": [
        ""
      ],
      "execution_count": 0,
      "outputs": []
    }
  ]
}