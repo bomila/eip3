{
  "nbformat": 4,
  "nbformat_minor": 0,
  "metadata": {
    "colab": {
      "name": "92.38_25s.ipynb",
      "version": "0.3.2",
      "provenance": [],
      "collapsed_sections": []
    },
    "kernelspec": {
      "name": "python3",
      "display_name": "Python 3"
    },
    "accelerator": "GPU"
  },
  "cells": [
    {
      "cell_type": "code",
      "metadata": {
        "id": "KkwXnw9OfHZl",
        "colab_type": "code",
        "colab": {}
      },
      "source": [
        "import numpy as np\n",
        "import pickle\n",
        "import os\n",
        "import urllib\n",
        "import zipfile \n",
        "import tarfile\n",
        "from six.moves import urllib\n",
        "\n",
        "from __future__ import absolute_import\n",
        "from __future__ import division\n",
        "from __future__ import print_function\n",
        "\n",
        "# tensorflow imports\n",
        "import tensorflow as tf\n",
        "from tensorflow.contrib.training import HParams\n",
        "\n",
        "# tf.keras imports\n",
        "from tensorflow.keras import Model\n",
        "from tensorflow.keras.layers import Dense, Conv2D, Activation, Flatten\n",
        "from tensorflow.keras.layers import BatchNormalization, AveragePooling2D, Input\n",
        "from tensorflow.keras.preprocessing.image import ImageDataGenerator\n",
        "\n",
        "# import for showing the confusion matrix\n",
        "import itertools\n",
        "from sklearn.metrics import confusion_matrix\n",
        "import matplotlib.pyplot as plt\n",
        "import numpy as np\n",
        "np.random.seed(2017)"
      ],
      "execution_count": 0,
      "outputs": []
    },
    {
      "cell_type": "code",
      "metadata": {
        "id": "tGuxjtHe4CAF",
        "colab_type": "code",
        "outputId": "98c4a0c3-15f7-4317-a55e-35ad9fdbfb92",
        "colab": {
          "base_uri": "https://localhost:8080/",
          "height": 360
        }
      },
      "source": [
        "!pip install albumentations"
      ],
      "execution_count": 34,
      "outputs": [
        {
          "output_type": "stream",
          "text": [
            "Requirement already satisfied: albumentations in /usr/local/lib/python3.6/dist-packages (0.1.12)\n",
            "Requirement already satisfied: scipy in /usr/local/lib/python3.6/dist-packages (from albumentations) (1.3.1)\n",
            "Requirement already satisfied: imgaug<0.2.7,>=0.2.5 in /usr/local/lib/python3.6/dist-packages (from albumentations) (0.2.6)\n",
            "Requirement already satisfied: numpy>=1.11.1 in /usr/local/lib/python3.6/dist-packages (from albumentations) (1.16.4)\n",
            "Requirement already satisfied: opencv-python in /usr/local/lib/python3.6/dist-packages (from albumentations) (3.4.5.20)\n",
            "Requirement already satisfied: six in /usr/local/lib/python3.6/dist-packages (from imgaug<0.2.7,>=0.2.5->albumentations) (1.12.0)\n",
            "Requirement already satisfied: scikit-image>=0.11.0 in /usr/local/lib/python3.6/dist-packages (from imgaug<0.2.7,>=0.2.5->albumentations) (0.15.0)\n",
            "Requirement already satisfied: PyWavelets>=0.4.0 in /usr/local/lib/python3.6/dist-packages (from scikit-image>=0.11.0->imgaug<0.2.7,>=0.2.5->albumentations) (1.0.3)\n",
            "Requirement already satisfied: matplotlib!=3.0.0,>=2.0.0 in /usr/local/lib/python3.6/dist-packages (from scikit-image>=0.11.0->imgaug<0.2.7,>=0.2.5->albumentations) (3.0.3)\n",
            "Requirement already satisfied: networkx>=2.0 in /usr/local/lib/python3.6/dist-packages (from scikit-image>=0.11.0->imgaug<0.2.7,>=0.2.5->albumentations) (2.3)\n",
            "Requirement already satisfied: imageio>=2.0.1 in /usr/local/lib/python3.6/dist-packages (from scikit-image>=0.11.0->imgaug<0.2.7,>=0.2.5->albumentations) (2.4.1)\n",
            "Requirement already satisfied: pillow>=4.3.0 in /usr/local/lib/python3.6/dist-packages (from scikit-image>=0.11.0->imgaug<0.2.7,>=0.2.5->albumentations) (4.3.0)\n",
            "Requirement already satisfied: python-dateutil>=2.1 in /usr/local/lib/python3.6/dist-packages (from matplotlib!=3.0.0,>=2.0.0->scikit-image>=0.11.0->imgaug<0.2.7,>=0.2.5->albumentations) (2.5.3)\n",
            "Requirement already satisfied: kiwisolver>=1.0.1 in /usr/local/lib/python3.6/dist-packages (from matplotlib!=3.0.0,>=2.0.0->scikit-image>=0.11.0->imgaug<0.2.7,>=0.2.5->albumentations) (1.1.0)\n",
            "Requirement already satisfied: cycler>=0.10 in /usr/local/lib/python3.6/dist-packages (from matplotlib!=3.0.0,>=2.0.0->scikit-image>=0.11.0->imgaug<0.2.7,>=0.2.5->albumentations) (0.10.0)\n",
            "Requirement already satisfied: pyparsing!=2.0.4,!=2.1.2,!=2.1.6,>=2.0.1 in /usr/local/lib/python3.6/dist-packages (from matplotlib!=3.0.0,>=2.0.0->scikit-image>=0.11.0->imgaug<0.2.7,>=0.2.5->albumentations) (2.4.2)\n",
            "Requirement already satisfied: decorator>=4.3.0 in /usr/local/lib/python3.6/dist-packages (from networkx>=2.0->scikit-image>=0.11.0->imgaug<0.2.7,>=0.2.5->albumentations) (4.4.0)\n",
            "Requirement already satisfied: olefile in /usr/local/lib/python3.6/dist-packages (from pillow>=4.3.0->scikit-image>=0.11.0->imgaug<0.2.7,>=0.2.5->albumentations) (0.46)\n",
            "Requirement already satisfied: setuptools in /usr/local/lib/python3.6/dist-packages (from kiwisolver>=1.0.1->matplotlib!=3.0.0,>=2.0.0->scikit-image>=0.11.0->imgaug<0.2.7,>=0.2.5->albumentations) (41.0.1)\n"
          ],
          "name": "stdout"
        }
      ]
    },
    {
      "cell_type": "code",
      "metadata": {
        "id": "1vod2Kyn4Yi5",
        "colab_type": "code",
        "outputId": "f79b6f82-08e2-46f4-dc8e-d3808e81fcae",
        "colab": {
          "base_uri": "https://localhost:8080/",
          "height": 34
        }
      },
      "source": [
        "tf.__version__"
      ],
      "execution_count": 35,
      "outputs": [
        {
          "output_type": "execute_result",
          "data": {
            "text/plain": [
              "'1.14.0'"
            ]
          },
          "metadata": {
            "tags": []
          },
          "execution_count": 35
        }
      ]
    },
    {
      "cell_type": "code",
      "metadata": {
        "id": "BPe7wLkr4Yld",
        "colab_type": "code",
        "colab": {}
      },
      "source": [
        "hparams = HParams(\n",
        "    n_classes=10,  # number of different classes in dataset\n",
        "    learning_rate=1e-1,  # fixed learning rate\n",
        "    train_batch_size=128,  # training batch size\n",
        "    val_batch_size=128,  # validation batch size\n",
        "    test_batch_size=256,  # testing batch size\n",
        "    n_epochs=24,  # number of epochs to train\n",
        "    input_name='input_1',  # name of the input tensor for first layer of Keras model\n",
        "    data_dir='/tmp/cifar-data/',  # path to data directory\n",
        "    checkpoint_dir='/tmp/checkpoints/'  # path to model checkpoint directory\n",
        ")"
      ],
      "execution_count": 0,
      "outputs": []
    },
    {
      "cell_type": "code",
      "metadata": {
        "id": "0bIY1Lgr4Yn_",
        "colab_type": "code",
        "outputId": "fe252606-98be-4a5a-a240-a566cb74484d",
        "colab": {
          "base_uri": "https://localhost:8080/",
          "height": 153
        }
      },
      "source": [
        "!df -h"
      ],
      "execution_count": 37,
      "outputs": [
        {
          "output_type": "stream",
          "text": [
            "Filesystem      Size  Used Avail Use% Mounted on\n",
            "overlay         359G   31G  310G   9% /\n",
            "tmpfs           6.4G     0  6.4G   0% /dev\n",
            "tmpfs           6.4G     0  6.4G   0% /sys/fs/cgroup\n",
            "tmpfs           6.4G   12K  6.4G   1% /var/colab\n",
            "/dev/sda1       365G   40G  326G  11% /opt/bin\n",
            "shm             6.0G  8.0K  6.0G   1% /dev/shm\n",
            "tmpfs           6.4G     0  6.4G   0% /sys/firmware\n"
          ],
          "name": "stdout"
        }
      ]
    },
    {
      "cell_type": "code",
      "metadata": {
        "id": "BCb4uzOt4Yq3",
        "colab_type": "code",
        "colab": {}
      },
      "source": [
        "from albumentations import (\n",
        "    Compose, HorizontalFlip,Cutout, Rotate, \n",
        "    ToFloat, ShiftScaleRotate,\n",
        "   \n",
        ")\n",
        "import cv2"
      ],
      "execution_count": 0,
      "outputs": []
    },
    {
      "cell_type": "code",
      "metadata": {
        "id": "wkQzXIJY4YtU",
        "colab_type": "code",
        "colab": {}
      },
      "source": [
        "AUGMENTATIONS_TRAIN = Compose([\n",
        "    HorizontalFlip(p=0.5),\n",
        "    Cutout(num_holes=6, max_h_size=2, max_w_size=2,p=0.5),\n",
        "    \n",
        "    ShiftScaleRotate(\n",
        "        shift_limit=0.0625, scale_limit=0.1, \n",
        "        rotate_limit=12, border_mode=cv2.BORDER_REFLECT_101, p=0.8),     \n",
        "    ToFloat(max_value=255)\n",
        "])\n",
        "\n",
        "AUGMENTATIONS_TEST = Compose([\n",
        "    \n",
        "    ToFloat(max_value=255)\n",
        "])"
      ],
      "execution_count": 0,
      "outputs": []
    },
    {
      "cell_type": "code",
      "metadata": {
        "id": "f9WFlF954YwF",
        "colab_type": "code",
        "colab": {}
      },
      "source": [
        "# URL for the data-set on the internet.\n",
        "data_url = \"https://www.cs.toronto.edu/~kriz/cifar-10-python.tar.gz\"\n",
        "\n",
        "# Width and height of each image.\n",
        "img_size = 32\n",
        "\n",
        "# Number of channels in each image, 3 channels: Red, Green, Blue.\n",
        "num_channels = 3\n",
        "\n",
        "# Length of an image when flattened to a 1-dim array.\n",
        "img_size_flat = img_size * img_size * num_channels\n",
        "\n",
        "# Number of classes.\n",
        "num_classes = hparams.n_classes\n",
        "\n",
        "########################################################################\n",
        "# Various constants used to allocate arrays of the correct size.\n",
        "\n",
        "# Number of files for the training-set.\n",
        "_num_files_train = 5\n",
        "\n",
        "# Number of images for each batch-file in the training-set.\n",
        "_images_per_file = 10000\n",
        "\n",
        "# Total number of images in the training-set.\n",
        "# This is used to pre-allocate arrays for efficiency.\n",
        "_num_images_train = _num_files_train * _images_per_file\n",
        "\n",
        "########################################################################\n",
        "# Private functions for downloading, unpacking and loading data-files.\n",
        "\n",
        "\n",
        "def download(base_url, filename, download_dir):\n",
        "    \"\"\"\n",
        "    Download the given file if it does not already exist in the download_dir.\n",
        "    :param base_url: The internet URL without the filename.\n",
        "    :param filename: The filename that will be added to the base_url.\n",
        "    :param download_dir: Local directory for storing the file.\n",
        "    :return: Nothing.\n",
        "    \"\"\"\n",
        "\n",
        "    # Path for local file.\n",
        "    save_path = os.path.join(download_dir, filename)\n",
        "\n",
        "    # Check if the file already exists, otherwise we need to download it now.\n",
        "    if not os.path.exists(save_path):\n",
        "        # Check if the download directory exists, otherwise create it.\n",
        "        if not os.path.exists(download_dir):\n",
        "            os.makedirs(download_dir)\n",
        "\n",
        "        print(\"Downloading\", filename, \"...\")\n",
        "\n",
        "        # Download the file from the internet.\n",
        "        url = base_url + filename\n",
        "        file_path, _ = urllib.request.urlretrieve(url=url,\n",
        "                                                  filename=save_path)\n",
        "\n",
        "        print(\" Done!\")\n",
        "\n",
        "\n",
        "def maybe_download_and_extract(url=data_url, download_dir=hparams.data_dir):\n",
        "    \"\"\"\n",
        "    Download and extract the data if it doesn't already exist.\n",
        "    Assumes the url is a tar-ball file.\n",
        "    :param url:\n",
        "        Internet URL for the tar-file to download.\n",
        "        Example: \"https://www.cs.toronto.edu/~kriz/cifar-10-python.tar.gz\"\n",
        "    :param download_dir:\n",
        "        Directory where the downloaded file is saved.\n",
        "        Example: \"data/CIFAR-10/\"\n",
        "    :return:\n",
        "        Nothing.\n",
        "    \"\"\"\n",
        "\n",
        "    # Filename for saving the file downloaded from the internet.\n",
        "    # Use the filename from the URL and add it to the download_dir.\n",
        "    filename = url.split('/')[-1]\n",
        "    file_path = os.path.join(download_dir, filename)\n",
        "\n",
        "    # Check if the file already exists.\n",
        "    # If it exists then we assume it has also been extracted,\n",
        "    # otherwise we need to download and extract it now.\n",
        "    if not os.path.exists(file_path):\n",
        "        # Check if the download directory exists, otherwise create it.\n",
        "        if not os.path.exists(download_dir):\n",
        "            os.makedirs(download_dir)\n",
        "\n",
        "        # Download the file from the internet.\n",
        "        file_path, _ = urllib.request.urlretrieve(url=url,\n",
        "                                                  filename=file_path)\n",
        "\n",
        "        print()\n",
        "        print(\"Download finished. Extracting files.\")\n",
        "\n",
        "        if file_path.endswith(\".zip\"):\n",
        "            # Unpack the zip-file.\n",
        "            zipfile.ZipFile(file=file_path, mode=\"r\").extractall(download_dir)\n",
        "        elif file_path.endswith((\".tar.gz\", \".tgz\")):\n",
        "            # Unpack the tar-ball.\n",
        "            tarfile.open(name=file_path, mode=\"r:gz\").extractall(download_dir)\n",
        "\n",
        "        print(\"Done.\")\n",
        "    else:\n",
        "        print(\"Data has apparently already been downloaded and unpacked.\")\n",
        "\n",
        "\n",
        "def _get_file_path(filename=\"\"):\n",
        "    \"\"\"\n",
        "    Return the full path of a data-file for the data-set.\n",
        "\n",
        "    If filename==\"\" then return the directory of the files.\n",
        "    \"\"\"\n",
        "\n",
        "    return os.path.join(hparams.data_dir, \"cifar-10-batches-py/\", filename)\n",
        "\n",
        "\n",
        "def _unpickle(filename):\n",
        "    \"\"\"\n",
        "    Unpickle the given file and return the data.\n",
        "\n",
        "    Note that the appropriate dir-name is prepended the filename.\n",
        "    \"\"\"\n",
        "\n",
        "    # Create full path for the file.\n",
        "    file_path = _get_file_path(filename)\n",
        "\n",
        "    print(\"Loading data: \" + file_path)\n",
        "\n",
        "    with open(file_path, mode='rb') as file:\n",
        "        # In Python 3.X it is important to set the encoding,\n",
        "        # otherwise an exception is raised here.\n",
        "        data = pickle.load(file,encoding='bytes')\n",
        "\n",
        "    return data\n",
        "\n",
        "\n",
        "def _convert_images(raw):\n",
        "    \"\"\"\n",
        "    Convert images from the CIFAR-10 format and\n",
        "    return a 4-dim array with shape: [image_number, height, width, channel]\n",
        "    where the pixels are floats between 0.0 and 1.0.\n",
        "    \"\"\"\n",
        "\n",
        "    # Convert the raw images from the data-files to floating-points.\n",
        "    # raw_float = np.array(raw, dtype=float) / 255.0\n",
        "\n",
        "    # Reshape the array to 4-dimensions.\n",
        "    images = raw.reshape([-1, num_channels, img_size, img_size])\n",
        "\n",
        "    # Reorder the indices of the array.\n",
        "    images = images.transpose([0, 2, 3, 1])\n",
        "\n",
        "    return images\n",
        "\n",
        "\n",
        "def _load_data(filename):\n",
        "    \"\"\"\n",
        "    Load a pickled data-file from the CIFAR-10 data-set\n",
        "    and return the converted images (see above) and the class-number\n",
        "    for each image.\n",
        "    \"\"\"\n",
        "\n",
        "    # Load the pickled data-file.\n",
        "    data = _unpickle(filename)\n",
        "\n",
        "    # Get the raw images.\n",
        "    raw_images = data[b'data']\n",
        "\n",
        "    # Get the class-numbers for each image. Convert to numpy-array.\n",
        "    cls = np.array(data[b'labels'])\n",
        "\n",
        "    # Convert the images.\n",
        "    images = _convert_images(raw_images)\n",
        "\n",
        "    return images, cls\n",
        "\n",
        "\n",
        "def load_class_names():\n",
        "    # Load the class-names from the pickled file.\n",
        "    raw = _unpickle(filename=\"batches.meta\")[b'label_names']\n",
        "\n",
        "    # Convert from binary strings.\n",
        "    names = [x.decode('utf-8') for x in raw]\n",
        "\n",
        "    return names\n",
        "\n",
        "\n",
        "def load_training_data():\n",
        "    \"\"\"\n",
        "    Load all the training-data for the CIFAR-10 data-set.\n",
        "\n",
        "    The data-set is split into 5 data-files which are merged here.\n",
        "\n",
        "    Returns the images, class-numbers and one-hot encoded class-labels.\n",
        "    \"\"\"\n",
        "\n",
        "    # Pre-allocate the arrays for the images and class-numbers for efficiency.\n",
        "    images = np.zeros(shape=[_num_images_train, img_size, img_size, num_channels], dtype=np.uint8)\n",
        "    cls = np.zeros(shape=[_num_images_train], dtype=int)\n",
        "\n",
        "    # Begin-index for the current batch.\n",
        "    begin = 0\n",
        "\n",
        "    # For each data-file.\n",
        "    for i in range(_num_files_train):\n",
        "        # Load the images and class-numbers from the data-file.\n",
        "        images_batch, cls_batch = _load_data(filename=\"data_batch_\" + str(i + 1))\n",
        "\n",
        "        # Number of images in this batch.\n",
        "        num_images = len(images_batch)\n",
        "\n",
        "        # End-index for the current batch.\n",
        "        end = begin + num_images\n",
        "\n",
        "        # Store the images into the array.\n",
        "        images[begin:end, :] = images_batch\n",
        "\n",
        "        # Store the class-numbers into the array.\n",
        "        cls[begin:end] = cls_batch\n",
        "\n",
        "        # The begin-index for the next batch is the current end-index.\n",
        "        begin = end\n",
        "\n",
        "    return images, cls\n",
        "\n",
        "\n",
        "def load_validation_data():\n",
        "\n",
        "    images, cls = _load_data(filename=\"test_batch\")\n",
        "\n",
        "    images = images[5000:, :, :, :]\n",
        "    cls = cls[5000:]\n",
        "\n",
        "    return images, cls\n",
        "\n",
        "def load_testing_data():\n",
        "\n",
        "\n",
        "    images, cls = _load_data(filename=\"test_batch\")\n",
        "\n",
        "    images = images[:5000, :, :, :]\n",
        "    cls = cls[:5000]\n",
        "\n",
        "    return images, cls"
      ],
      "execution_count": 0,
      "outputs": []
    },
    {
      "cell_type": "code",
      "metadata": {
        "id": "DvZqF1T85YJN",
        "colab_type": "code",
        "outputId": "6a65e2ac-fd00-4895-dfc8-0e8228deed5e",
        "colab": {
          "base_uri": "https://localhost:8080/",
          "height": 51
        }
      },
      "source": [
        "import matplotlib.pyplot as plt\n",
        "maybe_download_and_extract()\n",
        "x_val, y_val = load_validation_data()"
      ],
      "execution_count": 41,
      "outputs": [
        {
          "output_type": "stream",
          "text": [
            "Data has apparently already been downloaded and unpacked.\n",
            "Loading data: /tmp/cifar-data/cifar-10-batches-py/test_batch\n"
          ],
          "name": "stdout"
        }
      ]
    },
    {
      "cell_type": "code",
      "metadata": {
        "id": "1Yvey_0n5eAs",
        "colab_type": "code",
        "outputId": "94d24929-89ee-4bbc-acbb-fadb7f544b40",
        "colab": {
          "base_uri": "https://localhost:8080/",
          "height": 34
        }
      },
      "source": [
        "x_val.shape"
      ],
      "execution_count": 42,
      "outputs": [
        {
          "output_type": "execute_result",
          "data": {
            "text/plain": [
              "(5000, 32, 32, 3)"
            ]
          },
          "metadata": {
            "tags": []
          },
          "execution_count": 42
        }
      ]
    },
    {
      "cell_type": "code",
      "metadata": {
        "id": "O3LUHf905eD6",
        "colab_type": "code",
        "outputId": "e9c38f5a-eb3a-417b-d335-303ae6550a95",
        "colab": {
          "base_uri": "https://localhost:8080/",
          "height": 269
        }
      },
      "source": [
        "fig = plt.figure(figsize=(5,4))\n",
        "for i in range(3):\n",
        "    for j in range(3):\n",
        "        ax = fig.add_subplot(3, 3, i * 3 + j + 1)\n",
        "        ax.imshow(x_val[i * 3 + j])"
      ],
      "execution_count": 43,
      "outputs": [
        {
          "output_type": "display_data",
          "data": {
            "image/png": "[encoded data removed]",
            "text/plain": [
              "<Figure size 360x288 with 9 Axes>"
            ]
          },
          "metadata": {
            "tags": []
          }
        }
      ]
    },
    {
      "cell_type": "code",
      "metadata": {
        "id": "k4T9LCmm5eGr",
        "colab_type": "code",
        "outputId": "85fdd4c1-4317-4c01-8f4d-f48eb65a0c0c",
        "colab": {
          "base_uri": "https://localhost:8080/",
          "height": 269
        }
      },
      "source": [
        "fig = plt.figure(figsize=(5,4))\n",
        "for i in range(3):\n",
        "    for j in range(3):\n",
        "        ax = fig.add_subplot(3, 3, i * 3 + j + 1)\n",
        "        ax.imshow((AUGMENTATIONS_TRAIN(image=x_val[20])[\"image\"] * 255).astype(np.uint8))"
      ],
      "execution_count": 44,
      "outputs": [
        {
          "output_type": "display_data",
          "data": {
            "image/png": "[encoded data removed]",
            "text/plain": [
              "<Figure size 360x288 with 9 Axes>"
            ]
          },
          "metadata": {
            "tags": []
          }
        }
      ]
    },
    {
      "cell_type": "markdown",
      "metadata": {
        "id": "pRdhBEKP5vg3",
        "colab_type": "text"
      },
      "source": [
        "##Sequence Class\n"
      ]
    },
    {
      "cell_type": "code",
      "metadata": {
        "id": "PCUDjK7T5r7U",
        "colab_type": "code",
        "colab": {}
      },
      "source": [
        "from tensorflow.python.keras.utils.data_utils import Sequence, is_generator_or_sequence"
      ],
      "execution_count": 0,
      "outputs": []
    },
    {
      "cell_type": "code",
      "metadata": {
        "id": "FiUWTzZG5r-O",
        "colab_type": "code",
        "colab": {}
      },
      "source": [
        "class CIFAR10Sequence(Sequence):\n",
        "\n",
        "    def __init__(self, x_set, y_set, batch_size, augmentations):\n",
        "        self.x, self.y = x_set, y_set\n",
        "        self.batch_size = batch_size\n",
        "        self.augment = augmentations\n",
        "\n",
        "    def __len__(self):\n",
        "        return int(np.ceil(len(self.x) / float(self.batch_size)))\n",
        "\n",
        "    def __getitem__(self, idx):\n",
        "        batch_x = self.x[idx * self.batch_size:(idx + 1) * self.batch_size]\n",
        "        batch_y = self.y[idx * self.batch_size:(idx + 1) * self.batch_size]\n",
        "        \n",
        "        return np.stack([\n",
        "            self.augment(image=x)[\"image\"] for x in batch_x\n",
        "        ], axis=0), np.array(batch_y)"
      ],
      "execution_count": 0,
      "outputs": []
    },
    {
      "cell_type": "code",
      "metadata": {
        "id": "CbkSSRYf5sAo",
        "colab_type": "code",
        "outputId": "0b2eb733-b1cf-4537-e3f2-9ff5e40eb188",
        "colab": {
          "base_uri": "https://localhost:8080/",
          "height": 34
        }
      },
      "source": [
        "x_val, y_val = load_validation_data()\n",
        "valid_gen = CIFAR10Sequence(x_val, y_val, hparams.val_batch_size, augmentations=AUGMENTATIONS_TEST)"
      ],
      "execution_count": 47,
      "outputs": [
        {
          "output_type": "stream",
          "text": [
            "Loading data: /tmp/cifar-data/cifar-10-batches-py/test_batch\n"
          ],
          "name": "stdout"
        }
      ]
    },
    {
      "cell_type": "code",
      "metadata": {
        "id": "I4LafOCC5sFO",
        "colab_type": "code",
        "outputId": "34e23e3b-7d57-4959-edc1-a529b41aadc4",
        "colab": {
          "base_uri": "https://localhost:8080/",
          "height": 34
        }
      },
      "source": [
        "is_generator_or_sequence(valid_gen )"
      ],
      "execution_count": 48,
      "outputs": [
        {
          "output_type": "execute_result",
          "data": {
            "text/plain": [
              "True"
            ]
          },
          "metadata": {
            "tags": []
          },
          "execution_count": 48
        }
      ]
    },
    {
      "cell_type": "code",
      "metadata": {
        "id": "MBGfQgH_59hO",
        "colab_type": "code",
        "outputId": "a3047765-461f-4814-aafe-5c99910117ca",
        "colab": {
          "base_uri": "https://localhost:8080/",
          "height": 34
        }
      },
      "source": [
        "valid_gen[2][0].shape"
      ],
      "execution_count": 49,
      "outputs": [
        {
          "output_type": "execute_result",
          "data": {
            "text/plain": [
              "(128, 32, 32, 3)"
            ]
          },
          "metadata": {
            "tags": []
          },
          "execution_count": 49
        }
      ]
    },
    {
      "cell_type": "markdown",
      "metadata": {
        "id": "_Mnms_aV6Z8n",
        "colab_type": "text"
      },
      "source": [
        "## Network architecture"
      ]
    },
    {
      "cell_type": "code",
      "metadata": {
        "id": "s1XsZznxEIT6",
        "colab_type": "code",
        "colab": {}
      },
      "source": [
        "import tensorflow as tf\n",
        "reg = tf.keras.regularizers.l1_l2(\n",
        "    l1=0.0,\n",
        "    l2=0.001\n",
        ")"
      ],
      "execution_count": 0,
      "outputs": []
    },
    {
      "cell_type": "code",
      "metadata": {
        "id": "ZOey-LVQif-3",
        "colab_type": "code",
        "colab": {}
      },
      "source": [
        "from tensorflow.keras import layers,models\n",
        "\n",
        "def add_batchnorm_relu(inp):\n",
        "    inp = layers.BatchNormalization()(inp)\n",
        "    inp = layers.ReLU()(inp)\n",
        "    return inp\n",
        "\n",
        "class Resnet:\n",
        "\n",
        "    def __init__(self):\n",
        "        self.img_height = 32\n",
        "        self.img_width = 32\n",
        "        self.img_channels = 3\n",
        "\n",
        "    def build_resnet(self):\n",
        "        _input = layers.Input(shape=(self.img_height, self.img_width, self.img_channels))\n",
        "        inp = self.prep(_input)\n",
        "\n",
        "        inp = self.down_sample(inp,128)\n",
        "        shortcut = inp\n",
        "        inp = self.block(inp,64,128)\n",
        "        inp = layers.add([shortcut,inp])\n",
        "\n",
        "        inp = self.down_sample(inp, 256)\n",
        "\n",
        "        inp = self.down_sample(inp, 512)\n",
        "        shortcut = inp\n",
        "        inp = self.block(inp,128, 512)\n",
        "        inp = layers.add([shortcut, inp])\n",
        "\n",
        "        inp = layers.GlobalMaxPooling2D()(inp)\n",
        "        out = layers.Dense(10,activation='softmax',kernel_regularizer=reg)(inp)\n",
        "\n",
        "        model = models.Model(inputs=[_input], outputs=[out])\n",
        "        return model\n",
        "\n",
        "    def prep(self,inp):\n",
        "        inp = layers.Conv2D(64, kernel_size=(3, 3), strides=(1, 1), padding='same',kernel_regularizer=reg)(inp)\n",
        "        inp = add_batchnorm_relu(inp)\n",
        "        return inp\n",
        "\n",
        "    def down_sample(self,inp,channel_out):\n",
        "        inp = layers.Conv2D(channel_out, kernel_size=(3, 3), strides=(1, 1), padding='same',kernel_regularizer=reg)(inp)\n",
        "        inp = add_batchnorm_relu(inp)\n",
        "        inp = layers.MaxPool2D(pool_size=(2, 2))(inp)\n",
        "        return inp\n",
        "\n",
        "    def block(self,inp,channel_in,channel_out):\n",
        "        inp = layers.Conv2D(channel_in, kernel_size=(3, 3), strides=(1, 1), padding='same',kernel_regularizer=reg)(inp)\n",
        "        inp = add_batchnorm_relu(inp)\n",
        "        inp = layers.Conv2D(channel_out, kernel_size=(3, 3), strides=(1, 1), padding='same',kernel_regularizer=reg)(inp)\n",
        "        inp = add_batchnorm_relu(inp)\n",
        "        return inp\n"
      ],
      "execution_count": 0,
      "outputs": []
    },
    {
      "cell_type": "code",
      "metadata": {
        "id": "w6torPrsETno",
        "colab_type": "code",
        "outputId": "21ec2920-af22-4f7f-b14e-b424c34c3a57",
        "colab": {
          "base_uri": "https://localhost:8080/",
          "height": 1000
        }
      },
      "source": [
        "resnet = Resnet()\n",
        "model = resnet.build_resnet()\n",
        "print(model.summary())"
      ],
      "execution_count": 52,
      "outputs": [
        {
          "output_type": "stream",
          "text": [
            "Model: \"model_1\"\n",
            "__________________________________________________________________________________________________\n",
            "Layer (type)                    Output Shape         Param #     Connected to                     \n",
            "==================================================================================================\n",
            "input_2 (InputLayer)            [(None, 32, 32, 3)]  0                                            \n",
            "__________________________________________________________________________________________________\n",
            "conv2d_8 (Conv2D)               (None, 32, 32, 64)   1792        input_2[0][0]                    \n",
            "__________________________________________________________________________________________________\n",
            "batch_normalization_8 (BatchNor (None, 32, 32, 64)   256         conv2d_8[0][0]                   \n",
            "__________________________________________________________________________________________________\n",
            "re_lu_8 (ReLU)                  (None, 32, 32, 64)   0           batch_normalization_8[0][0]      \n",
            "__________________________________________________________________________________________________\n",
            "conv2d_9 (Conv2D)               (None, 32, 32, 128)  73856       re_lu_8[0][0]                    \n",
            "__________________________________________________________________________________________________\n",
            "batch_normalization_9 (BatchNor (None, 32, 32, 128)  512         conv2d_9[0][0]                   \n",
            "__________________________________________________________________________________________________\n",
            "re_lu_9 (ReLU)                  (None, 32, 32, 128)  0           batch_normalization_9[0][0]      \n",
            "__________________________________________________________________________________________________\n",
            "max_pooling2d_3 (MaxPooling2D)  (None, 16, 16, 128)  0           re_lu_9[0][0]                    \n",
            "__________________________________________________________________________________________________\n",
            "conv2d_10 (Conv2D)              (None, 16, 16, 64)   73792       max_pooling2d_3[0][0]            \n",
            "__________________________________________________________________________________________________\n",
            "batch_normalization_10 (BatchNo (None, 16, 16, 64)   256         conv2d_10[0][0]                  \n",
            "__________________________________________________________________________________________________\n",
            "re_lu_10 (ReLU)                 (None, 16, 16, 64)   0           batch_normalization_10[0][0]     \n",
            "__________________________________________________________________________________________________\n",
            "conv2d_11 (Conv2D)              (None, 16, 16, 128)  73856       re_lu_10[0][0]                   \n",
            "__________________________________________________________________________________________________\n",
            "batch_normalization_11 (BatchNo (None, 16, 16, 128)  512         conv2d_11[0][0]                  \n",
            "__________________________________________________________________________________________________\n",
            "re_lu_11 (ReLU)                 (None, 16, 16, 128)  0           batch_normalization_11[0][0]     \n",
            "__________________________________________________________________________________________________\n",
            "add_2 (Add)                     (None, 16, 16, 128)  0           max_pooling2d_3[0][0]            \n",
            "                                                                 re_lu_11[0][0]                   \n",
            "__________________________________________________________________________________________________\n",
            "conv2d_12 (Conv2D)              (None, 16, 16, 256)  295168      add_2[0][0]                      \n",
            "__________________________________________________________________________________________________\n",
            "batch_normalization_12 (BatchNo (None, 16, 16, 256)  1024        conv2d_12[0][0]                  \n",
            "__________________________________________________________________________________________________\n",
            "re_lu_12 (ReLU)                 (None, 16, 16, 256)  0           batch_normalization_12[0][0]     \n",
            "__________________________________________________________________________________________________\n",
            "max_pooling2d_4 (MaxPooling2D)  (None, 8, 8, 256)    0           re_lu_12[0][0]                   \n",
            "__________________________________________________________________________________________________\n",
            "conv2d_13 (Conv2D)              (None, 8, 8, 512)    1180160     max_pooling2d_4[0][0]            \n",
            "__________________________________________________________________________________________________\n",
            "batch_normalization_13 (BatchNo (None, 8, 8, 512)    2048        conv2d_13[0][0]                  \n",
            "__________________________________________________________________________________________________\n",
            "re_lu_13 (ReLU)                 (None, 8, 8, 512)    0           batch_normalization_13[0][0]     \n",
            "__________________________________________________________________________________________________\n",
            "max_pooling2d_5 (MaxPooling2D)  (None, 4, 4, 512)    0           re_lu_13[0][0]                   \n",
            "__________________________________________________________________________________________________\n",
            "conv2d_14 (Conv2D)              (None, 4, 4, 128)    589952      max_pooling2d_5[0][0]            \n",
            "__________________________________________________________________________________________________\n",
            "batch_normalization_14 (BatchNo (None, 4, 4, 128)    512         conv2d_14[0][0]                  \n",
            "__________________________________________________________________________________________________\n",
            "re_lu_14 (ReLU)                 (None, 4, 4, 128)    0           batch_normalization_14[0][0]     \n",
            "__________________________________________________________________________________________________\n",
            "conv2d_15 (Conv2D)              (None, 4, 4, 512)    590336      re_lu_14[0][0]                   \n",
            "__________________________________________________________________________________________________\n",
            "batch_normalization_15 (BatchNo (None, 4, 4, 512)    2048        conv2d_15[0][0]                  \n",
            "__________________________________________________________________________________________________\n",
            "re_lu_15 (ReLU)                 (None, 4, 4, 512)    0           batch_normalization_15[0][0]     \n",
            "__________________________________________________________________________________________________\n",
            "add_3 (Add)                     (None, 4, 4, 512)    0           max_pooling2d_5[0][0]            \n",
            "                                                                 re_lu_15[0][0]                   \n",
            "__________________________________________________________________________________________________\n",
            "global_max_pooling2d_1 (GlobalM (None, 512)          0           add_3[0][0]                      \n",
            "__________________________________________________________________________________________________\n",
            "dense_1 (Dense)                 (None, 10)           5130        global_max_pooling2d_1[0][0]     \n",
            "==================================================================================================\n",
            "Total params: 2,891,210\n",
            "Trainable params: 2,887,626\n",
            "Non-trainable params: 3,584\n",
            "__________________________________________________________________________________________________\n",
            "None\n"
          ],
          "name": "stdout"
        }
      ]
    },
    {
      "cell_type": "code",
      "metadata": {
        "id": "eOQzipY6EJPh",
        "colab_type": "code",
        "colab": {}
      },
      "source": [
        ""
      ],
      "execution_count": 0,
      "outputs": []
    },
    {
      "cell_type": "code",
      "metadata": {
        "id": "BaXT5xWW7fmv",
        "colab_type": "code",
        "outputId": "109c2589-5c9b-40cc-b21a-5a0bd3b204af",
        "colab": {
          "base_uri": "https://localhost:8080/",
          "height": 136
        }
      },
      "source": [
        "# Download and extract CIFAR-10 data\n",
        "maybe_download_and_extract()\n",
        "\n",
        "# training data\n",
        "x_train, y_train = load_training_data()\n",
        "train_gen = CIFAR10Sequence(x_train, y_train, hparams.train_batch_size, augmentations=AUGMENTATIONS_TRAIN)\n",
        "\n",
        "# Validation data\n",
        "x_val, y_val = load_validation_data()\n",
        "valid_gen = CIFAR10Sequence(x_val, y_val, hparams.val_batch_size, augmentations=AUGMENTATIONS_TEST)\n"
      ],
      "execution_count": 53,
      "outputs": [
        {
          "output_type": "stream",
          "text": [
            "Data has apparently already been downloaded and unpacked.\n",
            "Loading data: /tmp/cifar-data/cifar-10-batches-py/data_batch_1\n",
            "Loading data: /tmp/cifar-data/cifar-10-batches-py/data_batch_2\n",
            "Loading data: /tmp/cifar-data/cifar-10-batches-py/data_batch_3\n",
            "Loading data: /tmp/cifar-data/cifar-10-batches-py/data_batch_4\n",
            "Loading data: /tmp/cifar-data/cifar-10-batches-py/data_batch_5\n",
            "Loading data: /tmp/cifar-data/cifar-10-batches-py/test_batch\n"
          ],
          "name": "stdout"
        }
      ]
    },
    {
      "cell_type": "code",
      "metadata": {
        "id": "lF1S7jOhaROM",
        "colab_type": "code",
        "colab": {}
      },
      "source": [
        "# Implement One Cycle Policy Algorithm in the Keras Callback Class\n",
        "\n",
        "import keras\n",
        "from sklearn.metrics import log_loss, roc_auc_score, accuracy_score\n",
        "#from keras.losses import binary_crossentropy\n",
        "#from keras.metrics import binary_accuracy\n",
        "from tensorflow.keras import backend as K\n",
        "#from keras.callbacks import *\n",
        "from tensorflow.keras.callbacks import *\n",
        "\n",
        "class SlantedCylicLR(keras.callbacks.Callback):\n",
        "    \n",
        "    def __init__(self,base_lr, max_lr, step_size, base_m, max_m, cyclical_momentum, inc_fraction):\n",
        " \n",
        "        self.base_lr = base_lr\n",
        "        self.max_lr = max_lr\n",
        "        self.base_m = base_m\n",
        "        self.max_m = max_m\n",
        "        self.cyclical_momentum = cyclical_momentum\n",
        "        self.step_size = step_size\n",
        "        self.cycle_length = np.int(2*step_size)\n",
        "        self.inc_fraction = inc_fraction\n",
        "        \n",
        "        self.clr_iterations = 0.\n",
        "        self.cm_iterations = 0.\n",
        "        self.trn_iterations = 0.\n",
        "        self.history = {}\n",
        "        \n",
        "        \n",
        "    def clr(self):\n",
        "      \n",
        "      cycle = np.floor(1+self.clr_iterations/(2*self.step_size))\n",
        "      \n",
        "      if self.clr_iterations <= self.cycle_length*self.inc_fraction:\n",
        "        unit_cycle = self.clr_iterations * 1 / (self.cycle_length * self.inc_fraction)\n",
        "        adjusted_cycle = (unit_cycle * (self.max_lr - self.base_lr)) + self.base_lr\n",
        "        return adjusted_cycle\n",
        "      \n",
        "      elif (self.cycle_length*self.inc_fraction < self.clr_iterations <= self.cycle_length):\n",
        "        unit_cycle = (self.cycle_length - self.clr_iterations) * 1 / (self.cycle_length * (1 - self.inc_fraction))\n",
        "        adjusted_cycle = (unit_cycle * (self.max_lr - self.base_lr)) + self.base_lr\n",
        "        return adjusted_cycle\n",
        "        \n",
        "      else:\n",
        "        x = np.abs(self.clr_iterations/self.step_size - 2*cycle + 1)\n",
        "        adjusted_cycle = self.base_lr-(self.base_lr-self.base_lr/100)*np.maximum(0,(1-x))\n",
        "        return 0.4*adjusted_cycle\n",
        "               \n",
        "  \n",
        "    \n",
        "    def cm(self):\n",
        "      \n",
        "        cycle = np.floor(1+self.clr_iterations/(2*self.step_size))\n",
        "      \n",
        "        if cycle == 2:\n",
        "            \n",
        "            x = np.abs(self.clr_iterations/self.step_size - 2*cycle + 1) \n",
        "            return self.max_m\n",
        "        \n",
        "        else:\n",
        "            x = np.abs(self.clr_iterations/self.step_size - 2*cycle + 1)\n",
        "            return self.max_m - (self.max_m-self.base_m)*np.maximum(0,(1-x))\n",
        "        \n",
        "        \n",
        "    def on_train_begin(self, logs={}):\n",
        "        logs = logs or {}\n",
        "\n",
        "        if self.clr_iterations == 0:\n",
        "            K.set_value(self.model.optimizer.lr, self.base_lr)\n",
        "        else:\n",
        "            K.set_value(self.model.optimizer.lr, self.clr())\n",
        "            \n",
        "        if self.cyclical_momentum == True:\n",
        "            if self.clr_iterations == 0:\n",
        "                K.set_value(self.model.optimizer.momentum, self.cm())\n",
        "            else:\n",
        "                K.set_value(self.model.optimizer.momentum, self.cm())\n",
        "            \n",
        "            \n",
        "    def on_train_batch_begin(self, batch, logs=None):\n",
        "        \n",
        "        logs = logs or {}\n",
        "        self.trn_iterations += 1\n",
        "        self.clr_iterations += 1\n",
        "\n",
        "        self.history.setdefault('lr', []).append(K.get_value(self.model.optimizer.lr))\n",
        "        self.history.setdefault('iterations', []).append(self.trn_iterations)\n",
        "        \n",
        "        if self.cyclical_momentum == True:\n",
        "            self.history.setdefault('momentum', []).append(K.get_value(self.model.optimizer.momentum))\n",
        "\n",
        "        for k, v in logs.items():\n",
        "            self.history.setdefault(k, []).append(v)\n",
        "        \n",
        "        K.set_value(self.model.optimizer.lr, self.clr())\n",
        "        \n",
        "        if self.cyclical_momentum == True:\n",
        "          K.set_value(self.model.optimizer.momentum, self.cm())\n",
        "\n",
        "          \n",
        "          \n",
        "    def on_train_batch_end(self, batch, logs=None):\n",
        "      logs = logs or {}\n",
        "      \n",
        "     \n",
        "    def on_test_begin(self, batch, logs=None):\n",
        "      logs = logs or {}\n",
        "      \n",
        "    def on_test_end(self, batch, logs=None):\n",
        "      logs = logs or {}  \n",
        "      \n",
        "    def on_test_batch_begin(self, batch, logs=None):\n",
        "      logs = logs or {}\n",
        "      \n",
        "      \n",
        "    def on_test_batch_end(self, batch, logs=None):\n",
        "      logs = logs or {}\n",
        "      \n",
        "      \n",
        "    def on_epoch_begin(self, epoch, logs=None):\n",
        "      print('lr =  ', K.get_value(self.model.optimizer.lr))\n",
        "      \n",
        "  "
      ],
      "execution_count": 0,
      "outputs": []
    },
    {
      "cell_type": "code",
      "metadata": {
        "id": "4Hx_vPur7GtQ",
        "colab_type": "code",
        "colab": {}
      },
      "source": [
        "\n",
        "import tensorflow as tf\n",
        "#something  = tf.keras.Sequential()\n",
        "#from tf.keras.optimizers import SGD\n",
        "model.compile(loss='sparse_categorical_crossentropy', optimizer=tf.keras.optimizers.SGD(0.0000001), metrics=['accuracy'])"
      ],
      "execution_count": 0,
      "outputs": []
    },
    {
      "cell_type": "code",
      "metadata": {
        "id": "Hyp8Z54_76YB",
        "colab_type": "code",
        "outputId": "fe5f4510-3ef1-4122-ef6e-620cb857c4c4",
        "colab": {
          "base_uri": "https://localhost:8080/",
          "height": 187
        }
      },
      "source": [
        "# CLR parameter\n",
        "batch_size = 128\n",
        "epochs = 24\n",
        "max_lr = 0.5\n",
        "base_lr = 0.005 # Min_lr is 1/10 of max_lr\n",
        "max_m = 0.90\n",
        "base_m = 0.9*max_m  # Min momentum as 90% of max momentum\n",
        "\n",
        "cyclical_momentum = False\n",
        "\n",
        "\n",
        "iters = np.int(np.round((x_train.shape[0]/batch_size)*epochs,0))\n",
        "iterations = list(range(0,iters+1))\n",
        "print(\"iterations\",iters)\n",
        "up_epochs = 6\n",
        "inc_fraction = up_epochs/epochs\n",
        "\n",
        "print(\"Fract up is\", inc_fraction)\n",
        "up = np.int(np.round(up_epochs*(x_train.shape[0]/batch_size), 0))\n",
        "print(\"Increasing for {} iterations\" .format(up))\n",
        "down_epochs = 11\n",
        "down = np.int(np.round(down_epochs*(x_train.shape[0]/batch_size), 0))\n",
        "print(\"Decreasing for {} iterations\" .format(down))\n",
        "cycle_length = up+down\n",
        "print(\"cycle length is\",cycle_length )\n",
        "trail_epochs = epochs-up_epochs-down_epochs\n",
        "trail_fraction = trail_epochs/epochs\n",
        "print(\"Trail fraction is\", trail_fraction)\n",
        "cycles = 2.0+trail_fraction\n",
        "print(\"Cycles are:\", cycles)\n",
        "trail = np.int(np.round(trail_epochs*(x_train.shape[0]/batch_size), 0))\n",
        "print(\"Tail is {} iterations long\" .format(trail))\n",
        "print(\"Adding up, down and trail iterations, total is:\", up+down+trail)\n",
        "\n",
        "\n",
        "step_size = round(iters/cycles)  #len(iterations)\n",
        "print(step_size)"
      ],
      "execution_count": 56,
      "outputs": [
        {
          "output_type": "stream",
          "text": [
            "iterations 9375\n",
            "Fract up is 0.25\n",
            "Increasing for 2344 iterations\n",
            "Decreasing for 4297 iterations\n",
            "cycle length is 6641\n",
            "Trail fraction is 0.2916666666666667\n",
            "Cycles are: 2.2916666666666665\n",
            "Tail is 2734 iterations long\n",
            "Adding up, down and trail iterations, total is: 9375\n",
            "4091\n"
          ],
          "name": "stdout"
        }
      ]
    },
    {
      "cell_type": "code",
      "metadata": {
        "id": "vxw-BIE8V-cC",
        "colab_type": "code",
        "colab": {}
      },
      "source": [
        "slanted = SlantedCylicLR(base_lr=base_lr,max_lr=max_lr,step_size=step_size,base_m=base_m, max_m=max_m,cyclical_momentum=cyclical_momentum,inc_fraction=inc_fraction)\n",
        "   "
      ],
      "execution_count": 0,
      "outputs": []
    },
    {
      "cell_type": "markdown",
      "metadata": {
        "id": "xAJueoUSi54_",
        "colab_type": "text"
      },
      "source": [
        "## CheckPoint"
      ]
    },
    {
      "cell_type": "code",
      "metadata": {
        "colab_type": "code",
        "deletable": true,
        "editable": true,
        "id": "eVgSwFMDqh8I",
        "colab": {}
      },
      "source": [
        "import os\n",
        "# checkpoint for saving weights whenever val acc increases\n",
        "from tensorflow.keras.callbacks import ModelCheckpoint\n",
        "filepath=\"best_model_07_August_2019.hdf5\"\n",
        "checkpoint_dir = os.path.dirname(filepath)\n",
        "# alternatively use this line for saving only the best weights, this will keep getting overwritten during fit -- filepath=\"weights.best.hdf5\"\n",
        "checkpoint = ModelCheckpoint(filepath, monitor='val_acc', verbose=1, save_best_only=True, mode='max')\n",
        "\n"
      ],
      "execution_count": 0,
      "outputs": []
    },
    {
      "cell_type": "code",
      "metadata": {
        "id": "t05xmTrO71vC",
        "colab_type": "code",
        "colab": {}
      },
      "source": [
        "lr_scheduler = tf.keras.callbacks.LearningRateScheduler(slanted)"
      ],
      "execution_count": 0,
      "outputs": []
    },
    {
      "cell_type": "code",
      "metadata": {
        "id": "qZfybf3b8PKT",
        "colab_type": "code",
        "colab": {}
      },
      "source": [
        "#callbacks_list = [checkpoint, clr]\n",
        "slant_callback = [slanted]"
      ],
      "execution_count": 0,
      "outputs": []
    },
    {
      "cell_type": "code",
      "metadata": {
        "id": "BKYrJGFv8AWr",
        "colab_type": "code",
        "outputId": "48b2e124-ab08-461b-f3a7-b14d71ac1d52",
        "colab": {
          "base_uri": "https://localhost:8080/",
          "height": 1000
        }
      },
      "source": [
        "# Fit the model on the batches generated by datagen.flow().\n",
        "history = model.fit_generator(\n",
        "    train_gen,\n",
        "    epochs=hparams.n_epochs,\n",
        "    validation_data=valid_gen,\n",
        "    workers=2, use_multiprocessing=False,\n",
        "    callbacks=slant_callback)"
      ],
      "execution_count": 61,
      "outputs": [
        {
          "output_type": "stream",
          "text": [
            "lr =   0.005\n",
            "Epoch 1/24\n",
            "391/391 [==============================] - 27s 68ms/step - loss: 4.9050 - acc: 0.2757 - val_loss: 4.3878 - val_acc: 0.2068\n",
            "lr =   0.099619895\n",
            "Epoch 2/24\n",
            "391/391 [==============================] - 25s 64ms/step - loss: 3.8363 - acc: 0.3671 - val_loss: 4.8194 - val_acc: 0.2006\n",
            "lr =   0.1942398\n",
            "Epoch 3/24\n",
            "391/391 [==============================] - 25s 64ms/step - loss: 2.7084 - acc: 0.4677 - val_loss: 2.1545 - val_acc: 0.5092\n",
            "lr =   0.2888597\n",
            "Epoch 4/24\n",
            "391/391 [==============================] - 25s 63ms/step - loss: 2.0950 - acc: 0.5529 - val_loss: 2.0833 - val_acc: 0.5134\n",
            "lr =   0.3834796\n",
            "Epoch 5/24\n",
            "391/391 [==============================] - 25s 64ms/step - loss: 1.5929 - acc: 0.6427 - val_loss: 1.9022 - val_acc: 0.5146\n",
            "lr =   0.4780995\n",
            "Epoch 6/24\n",
            "391/391 [==============================] - 25s 64ms/step - loss: 1.3339 - acc: 0.6990 - val_loss: 1.1929 - val_acc: 0.7248\n",
            "lr =   0.4757602\n",
            "Epoch 7/24\n",
            "391/391 [==============================] - 25s 64ms/step - loss: 1.1739 - acc: 0.7371 - val_loss: 1.3314 - val_acc: 0.6754\n",
            "lr =   0.44422024\n",
            "Epoch 8/24\n",
            "391/391 [==============================] - 25s 64ms/step - loss: 1.1021 - acc: 0.7566 - val_loss: 1.1741 - val_acc: 0.7256\n",
            "lr =   0.41268027\n",
            "Epoch 9/24\n",
            "391/391 [==============================] - 25s 64ms/step - loss: 1.0421 - acc: 0.7767 - val_loss: 1.1538 - val_acc: 0.7436\n",
            "lr =   0.38114032\n",
            "Epoch 10/24\n",
            "391/391 [==============================] - 25s 64ms/step - loss: 0.9893 - acc: 0.7936 - val_loss: 1.5266 - val_acc: 0.6582\n",
            "lr =   0.34960034\n",
            "Epoch 11/24\n",
            "391/391 [==============================] - 25s 64ms/step - loss: 0.9377 - acc: 0.8077 - val_loss: 1.0042 - val_acc: 0.7924\n",
            "lr =   0.31806037\n",
            "Epoch 12/24\n",
            "391/391 [==============================] - 25s 64ms/step - loss: 0.8965 - acc: 0.8200 - val_loss: 0.9778 - val_acc: 0.7872\n",
            "lr =   0.28652042\n",
            "Epoch 13/24\n",
            "391/391 [==============================] - 25s 64ms/step - loss: 0.8557 - acc: 0.8336 - val_loss: 1.1519 - val_acc: 0.7436\n",
            "lr =   0.25498044\n",
            "Epoch 14/24\n",
            "391/391 [==============================] - 25s 64ms/step - loss: 0.8248 - acc: 0.8429 - val_loss: 0.8563 - val_acc: 0.8278\n",
            "lr =   0.22344048\n",
            "Epoch 15/24\n",
            "391/391 [==============================] - 25s 64ms/step - loss: 0.7727 - acc: 0.8557 - val_loss: 0.8074 - val_acc: 0.8434\n",
            "lr =   0.1919005\n",
            "Epoch 16/24\n",
            "391/391 [==============================] - 25s 64ms/step - loss: 0.7157 - acc: 0.8717 - val_loss: 1.0228 - val_acc: 0.7732\n",
            "lr =   0.16036054\n",
            "Epoch 17/24\n",
            "391/391 [==============================] - 25s 64ms/step - loss: 0.6695 - acc: 0.8825 - val_loss: 0.6786 - val_acc: 0.8756\n",
            "lr =   0.12882058\n",
            "Epoch 18/24\n",
            "391/391 [==============================] - 25s 64ms/step - loss: 0.6129 - acc: 0.8966 - val_loss: 0.7617 - val_acc: 0.8476\n",
            "lr =   0.097280614\n",
            "Epoch 19/24\n",
            "391/391 [==============================] - 25s 64ms/step - loss: 0.5532 - acc: 0.9113 - val_loss: 0.6493 - val_acc: 0.8822\n",
            "lr =   0.06574065\n",
            "Epoch 20/24\n",
            "391/391 [==============================] - 25s 64ms/step - loss: 0.4875 - acc: 0.9300 - val_loss: 0.5868 - val_acc: 0.8968\n",
            "lr =   0.034200683\n",
            "Epoch 21/24\n",
            "391/391 [==============================] - 25s 63ms/step - loss: 0.4241 - acc: 0.9491 - val_loss: 0.5119 - val_acc: 0.9222\n",
            "lr =   0.0019859644\n",
            "Epoch 22/24\n",
            "391/391 [==============================] - 25s 64ms/step - loss: 0.3927 - acc: 0.9593 - val_loss: 0.5049 - val_acc: 0.9230\n",
            "lr =   0.0017967245\n",
            "Epoch 23/24\n",
            "391/391 [==============================] - 25s 64ms/step - loss: 0.3895 - acc: 0.9606 - val_loss: 0.5034 - val_acc: 0.9236\n",
            "lr =   0.0016074848\n",
            "Epoch 24/24\n",
            "391/391 [==============================] - 25s 64ms/step - loss: 0.3862 - acc: 0.9606 - val_loss: 0.5037 - val_acc: 0.9238\n"
          ],
          "name": "stdout"
        }
      ]
    },
    {
      "cell_type": "code",
      "metadata": {
        "id": "ku-x66itA9F3",
        "colab_type": "code",
        "colab": {
          "base_uri": "https://localhost:8080/",
          "height": 295
        },
        "outputId": "cb523a65-7279-47ae-9e8d-d72e1af649a0"
      },
      "source": [
        "# Plot Learning Rate\n",
        "\n",
        "plt.plot(slanted.history['iterations'], slanted.history['lr'])\n",
        "plt.xlabel('Training Iterations')\n",
        "plt.ylabel('Learning Rate')\n",
        "plt.title(\"One Cycle Policy\")\n",
        "plt.show()"
      ],
      "execution_count": 62,
      "outputs": [
        {
          "output_type": "display_data",
          "data": {
            "image/png": "[encoded data removed]",
            "text/plain": [
              "<Figure size 432x288 with 1 Axes>"
            ]
          },
          "metadata": {
            "tags": []
          }
        }
      ]
    },
    {
      "cell_type": "code",
      "metadata": {
        "id": "JDdF8DcWCoQ7",
        "colab_type": "code",
        "colab": {
          "base_uri": "https://localhost:8080/",
          "height": 231
        },
        "outputId": "6cfb149c-d448-423c-fa8d-a7bddb9ddac6"
      },
      "source": [
        "# Plot momentum\n",
        "\n",
        "plt.plot(slanted.history['iterations'], slanted.history['momentum'])\n",
        "plt.xlabel('Training Iterations')\n",
        "plt.ylabel('Momentum')\n",
        "plt.title(\"One Cycle Policy\")\n",
        "plt.show()"
      ],
      "execution_count": 63,
      "outputs": [
        {
          "output_type": "error",
          "ename": "KeyError",
          "evalue": "ignored",
          "traceback": [
            "\u001b[0;31m---------------------------------------------------------------------------\u001b[0m",
            "\u001b[0;31mKeyError\u001b[0m                                  Traceback (most recent call last)",
            "\u001b[0;32m/usr/local/lib/python3.6/dist-packages/tensorflow/python/keras/api/_v1/keras/callbacks/__init__.py\u001b[0m in \u001b[0;36m<module>\u001b[0;34m()\u001b[0m\n\u001b[1;32m      1\u001b[0m \u001b[0;34m\u001b[0m\u001b[0m\n\u001b[0;32m----> 2\u001b[0;31m \u001b[0mplt\u001b[0m\u001b[0;34m.\u001b[0m\u001b[0mplot\u001b[0m\u001b[0;34m(\u001b[0m\u001b[0mslanted\u001b[0m\u001b[0;34m.\u001b[0m\u001b[0mhistory\u001b[0m\u001b[0;34m[\u001b[0m\u001b[0;34m'iterations'\u001b[0m\u001b[0;34m]\u001b[0m\u001b[0;34m,\u001b[0m \u001b[0mslanted\u001b[0m\u001b[0;34m.\u001b[0m\u001b[0mhistory\u001b[0m\u001b[0;34m[\u001b[0m\u001b[0;34m'momentum'\u001b[0m\u001b[0;34m]\u001b[0m\u001b[0;34m)\u001b[0m\u001b[0;34m\u001b[0m\u001b[0;34m\u001b[0m\u001b[0m\n\u001b[0m\u001b[1;32m      3\u001b[0m \u001b[0mplt\u001b[0m\u001b[0;34m.\u001b[0m\u001b[0mxlabel\u001b[0m\u001b[0;34m(\u001b[0m\u001b[0;34m'Training Iterations'\u001b[0m\u001b[0;34m)\u001b[0m\u001b[0;34m\u001b[0m\u001b[0;34m\u001b[0m\u001b[0m\n\u001b[1;32m      4\u001b[0m \u001b[0mplt\u001b[0m\u001b[0;34m.\u001b[0m\u001b[0mylabel\u001b[0m\u001b[0;34m(\u001b[0m\u001b[0;34m'Momentum'\u001b[0m\u001b[0;34m)\u001b[0m\u001b[0;34m\u001b[0m\u001b[0;34m\u001b[0m\u001b[0m\n\u001b[1;32m      5\u001b[0m \u001b[0mplt\u001b[0m\u001b[0;34m.\u001b[0m\u001b[0mtitle\u001b[0m\u001b[0;34m(\u001b[0m\u001b[0;34m\"One Cycle Policy\"\u001b[0m\u001b[0;34m)\u001b[0m\u001b[0;34m\u001b[0m\u001b[0;34m\u001b[0m\u001b[0m\n",
            "\u001b[0;31mKeyError\u001b[0m: 'momentum'"
          ]
        }
      ]
    },
    {
      "cell_type": "code",
      "metadata": {
        "colab_type": "code",
        "deletable": true,
        "editable": true,
        "id": "klHMq8vIutbW",
        "colab": {
          "base_uri": "https://localhost:8080/",
          "height": 295
        },
        "outputId": "45aca3f1-622c-44c1-bf28-e6ecef6758f8"
      },
      "source": [
        "# Plot accuracies\n",
        "val_acc = history.history['val_acc']\n",
        "acc = history.history['acc']\n",
        "plt.plot(range(len(val_acc)),val_acc,'c',label='Validation acc')\n",
        "plt.plot(range(len(acc)),acc,'m',label='Train acc')\n",
        "\n",
        "plt.title('Training and validation accuracies')\n",
        "plt.legend()\n",
        "plt.xlabel('epochs')\n",
        "plt.show()"
      ],
      "execution_count": 64,
      "outputs": [
        {
          "output_type": "display_data",
          "data": {
            "image/png": "[encoded data removed]",
            "text/plain": [
              "<Figure size 432x288 with 1 Axes>"
            ]
          },
          "metadata": {
            "tags": []
          }
        }
      ]
    },
    {
      "cell_type": "code",
      "metadata": {
        "id": "PT2OHBhQUOwv",
        "colab_type": "code",
        "colab": {}
      },
      "source": [
        ""
      ],
      "execution_count": 0,
      "outputs": []
    }
  ]
}